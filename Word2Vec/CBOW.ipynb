{
  "cells": [
    {
      "cell_type": "markdown",
      "metadata": {
        "id": "_2BP1puejRMk"
      },
      "source": [
        "# Imports\n",
        "The following packages are used:\n",
        "1. numpy\n",
        "2. tensorflow\n",
        "3. matplotlib\n",
        "4. tqdm"
      ]
    },
    {
      "cell_type": "code",
      "execution_count": 1,
      "metadata": {
        "colab": {
          "base_uri": "https://localhost:8080/"
        },
        "id": "Z1-BbxNyk1h1",
        "outputId": "bd9e1976-849c-43a6-9a31-5df40e01601e"
      },
      "outputs": [],
      "source": [
        "#pip install wandb\n"
      ]
    },
    {
      "cell_type": "code",
      "execution_count": 2,
      "metadata": {
        "id": "E3S16EISfeTL"
      },
      "outputs": [],
      "source": [
        "import numpy as np\n",
        "import tensorflow as tf\n",
        "from tqdm import tqdm\n",
        "import matplotlib.pyplot as plt"
      ]
    },
    {
      "cell_type": "code",
      "execution_count": 3,
      "metadata": {
        "id": "rTYgIY5Q_aba"
      },
      "outputs": [],
      "source": [
        "\n",
        "import wandb"
      ]
    },
    {
      "cell_type": "code",
      "execution_count": 4,
      "metadata": {
        "colab": {
          "base_uri": "https://localhost:8080/"
        },
        "id": "k9-tprAmAuCs",
        "outputId": "57e71d0f-5a61-4361-cc85-db13e9be775c"
      },
      "outputs": [
        {
          "name": "stderr",
          "output_type": "stream",
          "text": [
            "Failed to detect the name of this notebook, you can set it manually with the WANDB_NOTEBOOK_NAME environment variable to enable code saving.\n",
            "\u001b[34m\u001b[1mwandb\u001b[0m: Currently logged in as: \u001b[33mdayaalex\u001b[0m. Use \u001b[1m`wandb login --relogin`\u001b[0m to force relogin\n",
            "\u001b[34m\u001b[1mwandb\u001b[0m: \u001b[33mWARNING\u001b[0m If you're specifying your api key in code, ensure this code is not shared publicly.\n",
            "\u001b[34m\u001b[1mwandb\u001b[0m: \u001b[33mWARNING\u001b[0m Consider setting the WANDB_API_KEY environment variable, or running `wandb login` from the command line.\n",
            "\u001b[34m\u001b[1mwandb\u001b[0m: Appending key for api.wandb.ai to your netrc file: /Users/dalex/.netrc\n"
          ]
        },
        {
          "data": {
            "text/plain": [
              "True"
            ]
          },
          "execution_count": 4,
          "metadata": {},
          "output_type": "execute_result"
        }
      ],
      "source": [
        "wandb.login(key=\"eeeeee\")\n"
      ]
    },
    {
      "cell_type": "markdown",
      "metadata": {
        "id": "RpfZF94Tjs_I"
      },
      "source": [
        "# Data\n",
        "Due to the fact that we want a minimal implementation of CBOW we will use a small corpus."
      ]
    },
    {
      "cell_type": "code",
      "execution_count": 5,
      "metadata": {
        "id": "SE2mxAi3j3wf"
      },
      "outputs": [],
      "source": [
        "data = \"\"\"\n",
        "My name is Emma. Your name is Gloria. Gloria loves watching TV.\n",
        "Gloria also loves gardening. Emma only loves reading books. Emma likes drama novels.\n",
        "Gloria likes fruit bearing plants and trees. Gloria knows to tap dance. Emma is bad in sports.\n",
        "Gloria plays cricket well. Emma hates cricket.\n",
        "\"\"\""
      ]
    },
    {
      "cell_type": "code",
      "execution_count": 6,
      "metadata": {
        "colab": {
          "base_uri": "https://localhost:8080/"
        },
        "id": "cfz6lMy1JCJB",
        "outputId": "ee124587-284c-479c-b651-8f72f630f6ff"
      },
      "outputs": [
        {
          "name": "stdout",
          "output_type": "stream",
          "text": [
            "Vocab Size: 33\n"
          ]
        }
      ],
      "source": [
        "# Converts the data into tokens\n",
        "tokenized_text = tf.keras.preprocessing.text.text_to_word_sequence(data)\n",
        "tokenized_text_size = len(tokenized_text)\n",
        "# Creates a vocab of unique words\n",
        "vocab = sorted(set(tokenized_text))\n",
        "vocab_size = len(vocab)\n",
        "print('Vocab Size: {}'.format(len(vocab)))"
      ]
    },
    {
      "cell_type": "code",
      "execution_count": 7,
      "metadata": {
        "colab": {
          "base_uri": "https://localhost:8080/"
        },
        "id": "8NVXyWbnktWr",
        "outputId": "1dd91ac6-d499-4ecf-9705-547a666bbc04"
      },
      "outputs": [
        {
          "name": "stdout",
          "output_type": "stream",
          "text": [
            "['also', 'and', 'bad', 'bearing', 'books', 'cricket', 'dance', 'drama', 'emma', 'fruit', 'gardening', 'gloria', 'hates', 'in', 'is', 'knows', 'likes', 'loves', 'my', 'name', 'novels', 'only', 'plants', 'plays', 'reading', 'sports', 'tap', 'to', 'trees', 'tv', 'watching', 'well', 'your']\n"
          ]
        }
      ],
      "source": [
        "print(vocab)"
      ]
    },
    {
      "cell_type": "code",
      "execution_count": 8,
      "metadata": {
        "id": "ab01pIu86rty"
      },
      "outputs": [],
      "source": [
        "def check_in_vocab(word:str, vocab:list) -> bool:\n",
        "  \"\"\"Checks whether a word is in the vocab\n",
        "\n",
        "  Arguments:\n",
        "    word (str): The word to check\n",
        "\n",
        "  Returns:\n",
        "    bool: Returns whether the word is in the vocab or not\n",
        "  \"\"\"\n",
        "  return word in vocab"
      ]
    },
    {
      "cell_type": "code",
      "execution_count": 9,
      "metadata": {
        "colab": {
          "base_uri": "https://localhost:8080/"
        },
        "id": "vMqXx1QSksfm",
        "outputId": "5a8d31fd-4912-4a47-9a1a-176db4e0ad88"
      },
      "outputs": [
        {
          "name": "stdout",
          "output_type": "stream",
          "text": [
            "False\n",
            "True\n"
          ]
        }
      ],
      "source": [
        "print(check_in_vocab(\"Gloria\", vocab))\n",
        "print(check_in_vocab(\"gloria\", vocab))"
      ]
    },
    {
      "cell_type": "code",
      "execution_count": 10,
      "metadata": {
        "id": "UlbSfHlg-uqp"
      },
      "outputs": [],
      "source": [
        "# Map the vocab words to individual indices\n",
        "vocab_to_ix = {c:ix for ix,c in enumerate(vocab)}\n",
        "# Map the indices to the words in vocab\n",
        "ix_to_vocab = np.array(vocab)\n",
        "# Convert the data into numbers\n",
        "text_as_int = np.array([vocab_to_ix[c] for c in tokenized_text])"
      ]
    },
    {
      "cell_type": "code",
      "execution_count": 11,
      "metadata": {
        "colab": {
          "base_uri": "https://localhost:8080/"
        },
        "id": "2vKEK4FoktWu",
        "outputId": "cd415f7b-5e26-4bbd-b489-c7f6889d6e0d"
      },
      "outputs": [
        {
          "name": "stdout",
          "output_type": "stream",
          "text": [
            "{'also': 0, 'and': 1, 'bad': 2, 'bearing': 3, 'books': 4, 'cricket': 5, 'dance': 6, 'drama': 7, 'emma': 8, 'fruit': 9, 'gardening': 10, 'gloria': 11, 'hates': 12, 'in': 13, 'is': 14, 'knows': 15, 'likes': 16, 'loves': 17, 'my': 18, 'name': 19, 'novels': 20, 'only': 21, 'plants': 22, 'plays': 23, 'reading': 24, 'sports': 25, 'tap': 26, 'to': 27, 'trees': 28, 'tv': 29, 'watching': 30, 'well': 31, 'your': 32}\n",
            "['also' 'and' 'bad' 'bearing' 'books' 'cricket' 'dance' 'drama' 'emma'\n",
            " 'fruit' 'gardening' 'gloria' 'hates' 'in' 'is' 'knows' 'likes' 'loves'\n",
            " 'my' 'name' 'novels' 'only' 'plants' 'plays' 'reading' 'sports' 'tap'\n",
            " 'to' 'trees' 'tv' 'watching' 'well' 'your']\n",
            "[18 19 14  8 32 19 14 11 11 17 30 29 11  0 17 10  8 21 17 24  4  8 16  7\n",
            " 20 11 16  9  3 22  1 28 11 15 27 26  6  8 14  2 13 25 11 23  5 31  8 12\n",
            "  5]\n"
          ]
        }
      ],
      "source": [
        "print(vocab_to_ix)\n",
        "print(ix_to_vocab)\n",
        "print(text_as_int)"
      ]
    },
    {
      "cell_type": "code",
      "execution_count": 12,
      "metadata": {
        "colab": {
          "base_uri": "https://localhost:8080/",
          "height": 168
        },
        "id": "4Ot1tmHlDtMQ",
        "outputId": "222ad25a-3a07-48be-fdc3-dd7e042b88bc"
      },
      "outputs": [
        {
          "data": {
            "text/html": [
              "Tracking run with wandb version 0.15.10"
            ],
            "text/plain": [
              "<IPython.core.display.HTML object>"
            ]
          },
          "metadata": {},
          "output_type": "display_data"
        },
        {
          "data": {
            "text/html": [
              "Run data is saved locally in <code>/Users/dalex/nlp/Embeddings/Word2Vec/wandb/run-20230917_155001-4v5kchox</code>"
            ],
            "text/plain": [
              "<IPython.core.display.HTML object>"
            ]
          },
          "metadata": {},
          "output_type": "display_data"
        },
        {
          "data": {
            "text/html": [
              "Syncing run <strong><a href='https://wandb.ai/dayaalex/embeddings/runs/4v5kchox' target=\"_blank\">CBOW</a></strong> to <a href='https://wandb.ai/dayaalex/embeddings' target=\"_blank\">Weights & Biases</a> (<a href='https://wandb.me/run' target=\"_blank\">docs</a>)<br/>"
            ],
            "text/plain": [
              "<IPython.core.display.HTML object>"
            ]
          },
          "metadata": {},
          "output_type": "display_data"
        },
        {
          "data": {
            "text/html": [
              " View project at <a href='https://wandb.ai/dayaalex/embeddings' target=\"_blank\">https://wandb.ai/dayaalex/embeddings</a>"
            ],
            "text/plain": [
              "<IPython.core.display.HTML object>"
            ]
          },
          "metadata": {},
          "output_type": "display_data"
        },
        {
          "data": {
            "text/html": [
              " View run at <a href='https://wandb.ai/dayaalex/embeddings/runs/4v5kchox' target=\"_blank\">https://wandb.ai/dayaalex/embeddings/runs/4v5kchox</a>"
            ],
            "text/plain": [
              "<IPython.core.display.HTML object>"
            ]
          },
          "metadata": {},
          "output_type": "display_data"
        },
        {
          "data": {
            "text/html": [
              "<button onClick=\"this.nextSibling.style.display='block';this.style.display='none';\">Display W&B run</button><iframe src='https://wandb.ai/dayaalex/embeddings/runs/4v5kchox?jupyter=true' style='border:none;width:100%;height:420px;display:none;'></iframe>"
            ],
            "text/plain": [
              "<wandb.sdk.wandb_run.Run at 0x17a676fa0>"
            ]
          },
          "execution_count": 12,
          "metadata": {},
          "output_type": "execute_result"
        }
      ],
      "source": [
        "wandb.init(entity=\"dayaalex\", project=\"embeddings\", name=\"CBOW\")"
      ]
    },
    {
      "cell_type": "markdown",
      "metadata": {
        "id": "A5X1vTRxl2Ju"
      },
      "source": [
        "# Model parameters"
      ]
    },
    {
      "cell_type": "code",
      "execution_count": 13,
      "metadata": {
        "id": "kAveEumofx-r"
      },
      "outputs": [
        {
          "name": "stderr",
          "output_type": "stream",
          "text": [
            "2023-09-17 15:50:07.280015: I metal_plugin/src/device/metal_device.cc:1154] Metal device set to: Apple M1\n",
            "2023-09-17 15:50:07.280076: I metal_plugin/src/device/metal_device.cc:296] systemMemory: 8.00 GB\n",
            "2023-09-17 15:50:07.280091: I metal_plugin/src/device/metal_device.cc:313] maxCacheSize: 2.67 GB\n",
            "2023-09-17 15:50:07.280640: I tensorflow/core/common_runtime/pluggable_device/pluggable_device_factory.cc:303] Could not identify NUMA node of platform GPU ID 0, defaulting to 0. Your kernel may not have been built with NUMA support.\n",
            "2023-09-17 15:50:07.281129: I tensorflow/core/common_runtime/pluggable_device/pluggable_device_factory.cc:269] Created TensorFlow device (/job:localhost/replica:0/task:0/device:GPU:0 with 0 MB memory) -> physical PluggableDevice (device: 0, name: METAL, pci bus id: <undefined>)\n"
          ]
        }
      ],
      "source": [
        "EMBEDDING_SIZE = 2\n",
        "WINDOW_SIZE = 5\n",
        "opt = tf.optimizers.legacy.Adam()\n",
        "iterations = 1000\n",
        "# Here the word vectors are represented as row\n",
        "context_vector =  tf.Variable(np.random.rand(vocab_size, EMBEDDING_SIZE))\n",
        "center_vector = tf.Variable(np.random.rand(vocab_size, EMBEDDING_SIZE))"
      ]
    },
    {
      "cell_type": "markdown",
      "metadata": {
        "id": "Y-iu5N_cnGnU"
      },
      "source": [
        "# Implemetation"
      ]
    },
    {
      "cell_type": "code",
      "execution_count": 14,
      "metadata": {
        "id": "WcvJJX0OqaUx"
      },
      "outputs": [],
      "source": [
        "def train_step(indices, loss_list):\n",
        "  \"\"\"The training step\n",
        "\n",
        "  Arguments:\n",
        "    indices (list): The indices of the vocab in the window\n",
        "  \"\"\"\n",
        "  with tf.GradientTape() as tape:\n",
        "    # Context\n",
        "    u_avg = 0\n",
        "    for count,index in enumerate(indices):\n",
        "      if count != WINDOW_SIZE//2:\n",
        "        u_avg += context_vector[index,:]\n",
        "    u_avg /= WINDOW_SIZE-1\n",
        "    # Center\n",
        "    output = tf.matmul(center_vector, tf.expand_dims(u_avg ,1))\n",
        "    soft_out = tf.nn.softmax(output, axis=0)\n",
        "    loss = soft_out[indices[WINDOW_SIZE//2]]\n",
        "    log_loss = -tf.math.log(loss)\n",
        "    wandb.log({\"loss\":log_loss.numpy()})\n",
        "  loss_list.append(log_loss.numpy())\n",
        "  grad = tape.gradient(log_loss, [context_vector, center_vector])\n",
        "  opt.apply_gradients(zip(grad, [context_vector, center_vector]))"
      ]
    },
    {
      "cell_type": "code",
      "execution_count": 17,
      "metadata": {
        "colab": {
          "base_uri": "https://localhost:8080/"
        },
        "id": "I460SZ8WvEJl",
        "outputId": "a2f44332-09ae-4b99-e85e-f18339d35a11"
      },
      "outputs": [
        {
          "name": "stderr",
          "output_type": "stream",
          "text": [
            "  0%|          | 0/1000 [00:00<?, ?it/s]"
          ]
        },
        {
          "name": "stderr",
          "output_type": "stream",
          "text": [
            "  0%|          | 0/1000 [00:00<?, ?it/s]\n"
          ]
        },
        {
          "ename": "InvalidArgumentError",
          "evalue": "Cannot assign a device for operation ResourceApplyAdam: Could not satisfy explicit device specification '/job:localhost/replica:0/task:0/device:GPU:0' because no supported kernel for GPU devices is available.\nColocation Debug Info:\nColocation group had the following types and supported devices: \nRoot Member(assigned_device_name_index_=1 requested_device_name_='/job:localhost/replica:0/task:0/device:GPU:0' assigned_device_name_='/job:localhost/replica:0/task:0/device:GPU:0' resource_device_name_='/job:localhost/replica:0/task:0/device:GPU:0' supported_device_types_=[CPU] possible_devices_=[]\nResourceApplyAdam: CPU \n_Arg: GPU CPU \n\nColocation members, user-requested devices, and framework assigned devices, if any:\n  var (_Arg)  framework assigned device=/job:localhost/replica:0/task:0/device:GPU:0\n  m (_Arg)  framework assigned device=/job:localhost/replica:0/task:0/device:GPU:0\n  v (_Arg)  framework assigned device=/job:localhost/replica:0/task:0/device:GPU:0\n  ResourceApplyAdam (ResourceApplyAdam) /job:localhost/replica:0/task:0/device:GPU:0\n\nOp: ResourceApplyAdam\nNode attrs: T=DT_DOUBLE, use_nesterov=false, use_locking=true\nRegistered kernels:\n  device='XLA_CPU_JIT'; T in [DT_FLOAT, DT_DOUBLE, DT_COMPLEX64, DT_BFLOAT16, DT_COMPLEX128, DT_HALF]\n  device='GPU'; T in [DT_FLOAT]\n  device='CPU'; T in [DT_HALF]\n  device='CPU'; T in [DT_BFLOAT16]\n  device='CPU'; T in [DT_FLOAT]\n  device='CPU'; T in [DT_DOUBLE]\n  device='CPU'; T in [DT_COMPLEX64]\n  device='CPU'; T in [DT_COMPLEX128]\n\n\t [[{{node ResourceApplyAdam}}]] [Op:ResourceApplyAdam] name: ",
          "output_type": "error",
          "traceback": [
            "\u001b[0;31m---------------------------------------------------------------------------\u001b[0m",
            "\u001b[0;31mInvalidArgumentError\u001b[0m                      Traceback (most recent call last)",
            "\u001b[1;32m/Users/dalex/nlp/Embeddings/Word2Vec/CBOW.ipynb Cell 19\u001b[0m line \u001b[0;36m6\n\u001b[1;32m      <a href='vscode-notebook-cell:/Users/dalex/nlp/Embeddings/Word2Vec/CBOW.ipynb#X24sZmlsZQ%3D%3D?line=3'>4</a>\u001b[0m \u001b[39mfor\u001b[39;00m start \u001b[39min\u001b[39;00m \u001b[39mrange\u001b[39m(tokenized_text_size\u001b[39m-\u001b[39mWINDOW_SIZE):\n\u001b[1;32m      <a href='vscode-notebook-cell:/Users/dalex/nlp/Embeddings/Word2Vec/CBOW.ipynb#X24sZmlsZQ%3D%3D?line=4'>5</a>\u001b[0m   indices \u001b[39m=\u001b[39m text_as_int[start:start\u001b[39m+\u001b[39mWINDOW_SIZE]\n\u001b[0;32m----> <a href='vscode-notebook-cell:/Users/dalex/nlp/Embeddings/Word2Vec/CBOW.ipynb#X24sZmlsZQ%3D%3D?line=5'>6</a>\u001b[0m   train_step(indices, loss_list)\n",
            "\u001b[1;32m/Users/dalex/nlp/Embeddings/Word2Vec/CBOW.ipynb Cell 19\u001b[0m line \u001b[0;36m2\n\u001b[1;32m     <a href='vscode-notebook-cell:/Users/dalex/nlp/Embeddings/Word2Vec/CBOW.ipynb#X24sZmlsZQ%3D%3D?line=19'>20</a>\u001b[0m loss_list\u001b[39m.\u001b[39mappend(log_loss\u001b[39m.\u001b[39mnumpy())\n\u001b[1;32m     <a href='vscode-notebook-cell:/Users/dalex/nlp/Embeddings/Word2Vec/CBOW.ipynb#X24sZmlsZQ%3D%3D?line=20'>21</a>\u001b[0m grad \u001b[39m=\u001b[39m tape\u001b[39m.\u001b[39mgradient(log_loss, [context_vector, center_vector])\n\u001b[0;32m---> <a href='vscode-notebook-cell:/Users/dalex/nlp/Embeddings/Word2Vec/CBOW.ipynb#X24sZmlsZQ%3D%3D?line=21'>22</a>\u001b[0m opt\u001b[39m.\u001b[39;49mapply_gradients(\u001b[39mzip\u001b[39;49m(grad, [context_vector, center_vector]))\n",
            "File \u001b[0;32m~/nlp/env/lib/python3.8/site-packages/keras/src/optimizers/legacy/optimizer_v2.py:760\u001b[0m, in \u001b[0;36mOptimizerV2.apply_gradients\u001b[0;34m(self, grads_and_vars, name, experimental_aggregate_gradients)\u001b[0m\n\u001b[1;32m    757\u001b[0m     grads_and_vars \u001b[39m=\u001b[39m \u001b[39mself\u001b[39m\u001b[39m.\u001b[39m_aggregate_gradients(grads_and_vars)\n\u001b[1;32m    758\u001b[0m grads_and_vars \u001b[39m=\u001b[39m \u001b[39mself\u001b[39m\u001b[39m.\u001b[39m_transform_gradients(grads_and_vars)\n\u001b[0;32m--> 760\u001b[0m \u001b[39mreturn\u001b[39;00m tf\u001b[39m.\u001b[39;49m__internal__\u001b[39m.\u001b[39;49mdistribute\u001b[39m.\u001b[39;49minterim\u001b[39m.\u001b[39;49mmaybe_merge_call(\n\u001b[1;32m    761\u001b[0m     functools\u001b[39m.\u001b[39;49mpartial(\n\u001b[1;32m    762\u001b[0m         \u001b[39mself\u001b[39;49m\u001b[39m.\u001b[39;49m_distributed_apply, apply_state\u001b[39m=\u001b[39;49mapply_state\n\u001b[1;32m    763\u001b[0m     ),\n\u001b[1;32m    764\u001b[0m     strategy,\n\u001b[1;32m    765\u001b[0m     grads_and_vars,\n\u001b[1;32m    766\u001b[0m     name\u001b[39m=\u001b[39;49mname,\n\u001b[1;32m    767\u001b[0m )\n",
            "File \u001b[0;32m~/nlp/env/lib/python3.8/site-packages/tensorflow/python/distribute/merge_call_interim.py:51\u001b[0m, in \u001b[0;36mmaybe_merge_call\u001b[0;34m(fn, strategy, *args, **kwargs)\u001b[0m\n\u001b[1;32m     31\u001b[0m \u001b[39m\u001b[39m\u001b[39m\"\"\"Maybe invoke `fn` via `merge_call` which may or may not be fulfilled.\u001b[39;00m\n\u001b[1;32m     32\u001b[0m \n\u001b[1;32m     33\u001b[0m \u001b[39mThe caller of this utility function requests to invoke `fn` via `merge_call`\u001b[39;00m\n\u001b[0;32m   (...)\u001b[0m\n\u001b[1;32m     48\u001b[0m \u001b[39m  The return value of the `fn` call.\u001b[39;00m\n\u001b[1;32m     49\u001b[0m \u001b[39m\"\"\"\u001b[39;00m\n\u001b[1;32m     50\u001b[0m \u001b[39mif\u001b[39;00m strategy_supports_no_merge_call():\n\u001b[0;32m---> 51\u001b[0m   \u001b[39mreturn\u001b[39;00m fn(strategy, \u001b[39m*\u001b[39;49margs, \u001b[39m*\u001b[39;49m\u001b[39m*\u001b[39;49mkwargs)\n\u001b[1;32m     52\u001b[0m \u001b[39melse\u001b[39;00m:\n\u001b[1;32m     53\u001b[0m   \u001b[39mreturn\u001b[39;00m distribute_lib\u001b[39m.\u001b[39mget_replica_context()\u001b[39m.\u001b[39mmerge_call(\n\u001b[1;32m     54\u001b[0m       fn, args\u001b[39m=\u001b[39margs, kwargs\u001b[39m=\u001b[39mkwargs)\n",
            "File \u001b[0;32m~/nlp/env/lib/python3.8/site-packages/keras/src/optimizers/legacy/optimizer_v2.py:819\u001b[0m, in \u001b[0;36mOptimizerV2._distributed_apply\u001b[0;34m(self, distribution, grads_and_vars, apply_state, name)\u001b[0m\n\u001b[1;32m    813\u001b[0m \u001b[39mwith\u001b[39;00m distribution\u001b[39m.\u001b[39mextended\u001b[39m.\u001b[39mcolocate_vars_with(var):\n\u001b[1;32m    814\u001b[0m     \u001b[39mwith\u001b[39;00m name_scope_only_in_function_or_graph(\n\u001b[1;32m    815\u001b[0m         \u001b[39m\"\u001b[39m\u001b[39mupdate\u001b[39m\u001b[39m\"\u001b[39m\n\u001b[1;32m    816\u001b[0m         \u001b[39mif\u001b[39;00m eagerly_outside_functions\n\u001b[1;32m    817\u001b[0m         \u001b[39melse\u001b[39;00m \u001b[39m\"\u001b[39m\u001b[39mupdate_\u001b[39m\u001b[39m\"\u001b[39m \u001b[39m+\u001b[39m var\u001b[39m.\u001b[39mop\u001b[39m.\u001b[39mname\n\u001b[1;32m    818\u001b[0m     ):\n\u001b[0;32m--> 819\u001b[0m         update_op \u001b[39m=\u001b[39m distribution\u001b[39m.\u001b[39;49mextended\u001b[39m.\u001b[39;49mupdate(\n\u001b[1;32m    820\u001b[0m             var,\n\u001b[1;32m    821\u001b[0m             apply_grad_to_update_var,\n\u001b[1;32m    822\u001b[0m             args\u001b[39m=\u001b[39;49m(grad,),\n\u001b[1;32m    823\u001b[0m             group\u001b[39m=\u001b[39;49m\u001b[39mFalse\u001b[39;49;00m,\n\u001b[1;32m    824\u001b[0m         )\n\u001b[1;32m    825\u001b[0m         \u001b[39mif\u001b[39;00m tf\u001b[39m.\u001b[39mdistribute\u001b[39m.\u001b[39min_cross_replica_context():\n\u001b[1;32m    826\u001b[0m             \u001b[39m# In cross-replica context, extended.update returns\u001b[39;00m\n\u001b[1;32m    827\u001b[0m             \u001b[39m# a list of update ops from all replicas\u001b[39;00m\n\u001b[1;32m    828\u001b[0m             \u001b[39m# (group=False).\u001b[39;00m\n\u001b[1;32m    829\u001b[0m             update_ops\u001b[39m.\u001b[39mextend(update_op)\n",
            "File \u001b[0;32m~/nlp/env/lib/python3.8/site-packages/tensorflow/python/distribute/distribute_lib.py:2992\u001b[0m, in \u001b[0;36mStrategyExtendedV2.update\u001b[0;34m(self, var, fn, args, kwargs, group)\u001b[0m\n\u001b[1;32m   2989\u001b[0m   fn \u001b[39m=\u001b[39m autograph\u001b[39m.\u001b[39mtf_convert(\n\u001b[1;32m   2990\u001b[0m       fn, autograph_ctx\u001b[39m.\u001b[39mcontrol_status_ctx(), convert_by_default\u001b[39m=\u001b[39m\u001b[39mFalse\u001b[39;00m)\n\u001b[1;32m   2991\u001b[0m   \u001b[39mwith\u001b[39;00m \u001b[39mself\u001b[39m\u001b[39m.\u001b[39m_container_strategy()\u001b[39m.\u001b[39mscope():\n\u001b[0;32m-> 2992\u001b[0m     \u001b[39mreturn\u001b[39;00m \u001b[39mself\u001b[39;49m\u001b[39m.\u001b[39;49m_update(var, fn, args, kwargs, group)\n\u001b[1;32m   2993\u001b[0m \u001b[39melse\u001b[39;00m:\n\u001b[1;32m   2994\u001b[0m   \u001b[39mreturn\u001b[39;00m \u001b[39mself\u001b[39m\u001b[39m.\u001b[39m_replica_ctx_update(\n\u001b[1;32m   2995\u001b[0m       var, fn, args\u001b[39m=\u001b[39margs, kwargs\u001b[39m=\u001b[39mkwargs, group\u001b[39m=\u001b[39mgroup)\n",
            "File \u001b[0;32m~/nlp/env/lib/python3.8/site-packages/tensorflow/python/distribute/distribute_lib.py:4062\u001b[0m, in \u001b[0;36m_DefaultDistributionExtended._update\u001b[0;34m(self, var, fn, args, kwargs, group)\u001b[0m\n\u001b[1;32m   4059\u001b[0m \u001b[39mdef\u001b[39;00m \u001b[39m_update\u001b[39m(\u001b[39mself\u001b[39m, var, fn, args, kwargs, group):\n\u001b[1;32m   4060\u001b[0m   \u001b[39m# The implementations of _update() and _update_non_slot() are identical\u001b[39;00m\n\u001b[1;32m   4061\u001b[0m   \u001b[39m# except _update() passes `var` as the first argument to `fn()`.\u001b[39;00m\n\u001b[0;32m-> 4062\u001b[0m   \u001b[39mreturn\u001b[39;00m \u001b[39mself\u001b[39;49m\u001b[39m.\u001b[39;49m_update_non_slot(var, fn, (var,) \u001b[39m+\u001b[39;49m \u001b[39mtuple\u001b[39;49m(args), kwargs, group)\n",
            "File \u001b[0;32m~/nlp/env/lib/python3.8/site-packages/tensorflow/python/distribute/distribute_lib.py:4068\u001b[0m, in \u001b[0;36m_DefaultDistributionExtended._update_non_slot\u001b[0;34m(self, colocate_with, fn, args, kwargs, should_group)\u001b[0m\n\u001b[1;32m   4064\u001b[0m \u001b[39mdef\u001b[39;00m \u001b[39m_update_non_slot\u001b[39m(\u001b[39mself\u001b[39m, colocate_with, fn, args, kwargs, should_group):\n\u001b[1;32m   4065\u001b[0m   \u001b[39m# TODO(josh11b): Figure out what we should be passing to UpdateContext()\u001b[39;00m\n\u001b[1;32m   4066\u001b[0m   \u001b[39m# once that value is used for something.\u001b[39;00m\n\u001b[1;32m   4067\u001b[0m   \u001b[39mwith\u001b[39;00m UpdateContext(colocate_with):\n\u001b[0;32m-> 4068\u001b[0m     result \u001b[39m=\u001b[39m fn(\u001b[39m*\u001b[39;49margs, \u001b[39m*\u001b[39;49m\u001b[39m*\u001b[39;49mkwargs)\n\u001b[1;32m   4069\u001b[0m     \u001b[39mif\u001b[39;00m should_group:\n\u001b[1;32m   4070\u001b[0m       \u001b[39mreturn\u001b[39;00m result\n",
            "File \u001b[0;32m~/nlp/env/lib/python3.8/site-packages/tensorflow/python/autograph/impl/api.py:596\u001b[0m, in \u001b[0;36mcall_with_unspecified_conversion_status.<locals>.wrapper\u001b[0;34m(*args, **kwargs)\u001b[0m\n\u001b[1;32m    594\u001b[0m \u001b[39mdef\u001b[39;00m \u001b[39mwrapper\u001b[39m(\u001b[39m*\u001b[39margs, \u001b[39m*\u001b[39m\u001b[39m*\u001b[39mkwargs):\n\u001b[1;32m    595\u001b[0m   \u001b[39mwith\u001b[39;00m ag_ctx\u001b[39m.\u001b[39mControlStatusCtx(status\u001b[39m=\u001b[39mag_ctx\u001b[39m.\u001b[39mStatus\u001b[39m.\u001b[39mUNSPECIFIED):\n\u001b[0;32m--> 596\u001b[0m     \u001b[39mreturn\u001b[39;00m func(\u001b[39m*\u001b[39;49margs, \u001b[39m*\u001b[39;49m\u001b[39m*\u001b[39;49mkwargs)\n",
            "File \u001b[0;32m~/nlp/env/lib/python3.8/site-packages/keras/src/optimizers/legacy/optimizer_v2.py:798\u001b[0m, in \u001b[0;36mOptimizerV2._distributed_apply.<locals>.apply_grad_to_update_var\u001b[0;34m(var, grad)\u001b[0m\n\u001b[1;32m    796\u001b[0m \u001b[39mif\u001b[39;00m \u001b[39m\"\u001b[39m\u001b[39mapply_state\u001b[39m\u001b[39m\"\u001b[39m \u001b[39min\u001b[39;00m \u001b[39mself\u001b[39m\u001b[39m.\u001b[39m_dense_apply_args:\n\u001b[1;32m    797\u001b[0m     apply_kwargs[\u001b[39m\"\u001b[39m\u001b[39mapply_state\u001b[39m\u001b[39m\"\u001b[39m] \u001b[39m=\u001b[39m apply_state\n\u001b[0;32m--> 798\u001b[0m update_op \u001b[39m=\u001b[39m \u001b[39mself\u001b[39;49m\u001b[39m.\u001b[39;49m_resource_apply_dense(grad, var, \u001b[39m*\u001b[39;49m\u001b[39m*\u001b[39;49mapply_kwargs)\n\u001b[1;32m    799\u001b[0m \u001b[39mif\u001b[39;00m var\u001b[39m.\u001b[39mconstraint \u001b[39mis\u001b[39;00m \u001b[39mnot\u001b[39;00m \u001b[39mNone\u001b[39;00m:\n\u001b[1;32m    800\u001b[0m     \u001b[39mwith\u001b[39;00m tf\u001b[39m.\u001b[39mcontrol_dependencies([update_op]):\n",
            "File \u001b[0;32m~/nlp/env/lib/python3.8/site-packages/keras/src/optimizers/legacy/adam.py:181\u001b[0m, in \u001b[0;36mAdam._resource_apply_dense\u001b[0;34m(self, grad, var, apply_state)\u001b[0m\n\u001b[1;32m    178\u001b[0m v \u001b[39m=\u001b[39m \u001b[39mself\u001b[39m\u001b[39m.\u001b[39mget_slot(var, \u001b[39m\"\u001b[39m\u001b[39mv\u001b[39m\u001b[39m\"\u001b[39m)\n\u001b[1;32m    180\u001b[0m \u001b[39mif\u001b[39;00m \u001b[39mnot\u001b[39;00m \u001b[39mself\u001b[39m\u001b[39m.\u001b[39mamsgrad:\n\u001b[0;32m--> 181\u001b[0m     \u001b[39mreturn\u001b[39;00m tf\u001b[39m.\u001b[39;49mraw_ops\u001b[39m.\u001b[39;49mResourceApplyAdam(\n\u001b[1;32m    182\u001b[0m         var\u001b[39m=\u001b[39;49mvar\u001b[39m.\u001b[39;49mhandle,\n\u001b[1;32m    183\u001b[0m         m\u001b[39m=\u001b[39;49mm\u001b[39m.\u001b[39;49mhandle,\n\u001b[1;32m    184\u001b[0m         v\u001b[39m=\u001b[39;49mv\u001b[39m.\u001b[39;49mhandle,\n\u001b[1;32m    185\u001b[0m         beta1_power\u001b[39m=\u001b[39;49mcoefficients[\u001b[39m\"\u001b[39;49m\u001b[39mbeta_1_power\u001b[39;49m\u001b[39m\"\u001b[39;49m],\n\u001b[1;32m    186\u001b[0m         beta2_power\u001b[39m=\u001b[39;49mcoefficients[\u001b[39m\"\u001b[39;49m\u001b[39mbeta_2_power\u001b[39;49m\u001b[39m\"\u001b[39;49m],\n\u001b[1;32m    187\u001b[0m         lr\u001b[39m=\u001b[39;49mcoefficients[\u001b[39m\"\u001b[39;49m\u001b[39mlr_t\u001b[39;49m\u001b[39m\"\u001b[39;49m],\n\u001b[1;32m    188\u001b[0m         beta1\u001b[39m=\u001b[39;49mcoefficients[\u001b[39m\"\u001b[39;49m\u001b[39mbeta_1_t\u001b[39;49m\u001b[39m\"\u001b[39;49m],\n\u001b[1;32m    189\u001b[0m         beta2\u001b[39m=\u001b[39;49mcoefficients[\u001b[39m\"\u001b[39;49m\u001b[39mbeta_2_t\u001b[39;49m\u001b[39m\"\u001b[39;49m],\n\u001b[1;32m    190\u001b[0m         epsilon\u001b[39m=\u001b[39;49mcoefficients[\u001b[39m\"\u001b[39;49m\u001b[39mepsilon\u001b[39;49m\u001b[39m\"\u001b[39;49m],\n\u001b[1;32m    191\u001b[0m         grad\u001b[39m=\u001b[39;49mgrad,\n\u001b[1;32m    192\u001b[0m         use_locking\u001b[39m=\u001b[39;49m\u001b[39mself\u001b[39;49m\u001b[39m.\u001b[39;49m_use_locking,\n\u001b[1;32m    193\u001b[0m     )\n\u001b[1;32m    194\u001b[0m \u001b[39melse\u001b[39;00m:\n\u001b[1;32m    195\u001b[0m     vhat \u001b[39m=\u001b[39m \u001b[39mself\u001b[39m\u001b[39m.\u001b[39mget_slot(var, \u001b[39m\"\u001b[39m\u001b[39mvhat\u001b[39m\u001b[39m\"\u001b[39m)\n",
            "File \u001b[0;32m~/nlp/env/lib/python3.8/site-packages/tensorflow/python/util/tf_export.py:413\u001b[0m, in \u001b[0;36mkwarg_only.<locals>.wrapper\u001b[0;34m(*args, **kwargs)\u001b[0m\n\u001b[1;32m    408\u001b[0m \u001b[39mif\u001b[39;00m args:\n\u001b[1;32m    409\u001b[0m   \u001b[39mraise\u001b[39;00m \u001b[39mTypeError\u001b[39;00m(\n\u001b[1;32m    410\u001b[0m       \u001b[39m'\u001b[39m\u001b[39m{f}\u001b[39;00m\u001b[39m only takes keyword args (possible keys: \u001b[39m\u001b[39m{kwargs}\u001b[39;00m\u001b[39m). \u001b[39m\u001b[39m'\u001b[39m\n\u001b[1;32m    411\u001b[0m       \u001b[39m'\u001b[39m\u001b[39mPlease pass these args as kwargs instead.\u001b[39m\u001b[39m'\u001b[39m\n\u001b[1;32m    412\u001b[0m       \u001b[39m.\u001b[39mformat(f\u001b[39m=\u001b[39mf\u001b[39m.\u001b[39m\u001b[39m__name__\u001b[39m, kwargs\u001b[39m=\u001b[39mf_argspec\u001b[39m.\u001b[39margs))\n\u001b[0;32m--> 413\u001b[0m \u001b[39mreturn\u001b[39;00m f(\u001b[39m*\u001b[39;49m\u001b[39m*\u001b[39;49mkwargs)\n",
            "File \u001b[0;32m~/nlp/env/lib/python3.8/site-packages/tensorflow/python/ops/gen_training_ops.py:1427\u001b[0m, in \u001b[0;36mresource_apply_adam\u001b[0;34m(var, m, v, beta1_power, beta2_power, lr, beta1, beta2, epsilon, grad, use_locking, use_nesterov, name)\u001b[0m\n\u001b[1;32m   1425\u001b[0m   \u001b[39mreturn\u001b[39;00m _result\n\u001b[1;32m   1426\u001b[0m \u001b[39mexcept\u001b[39;00m _core\u001b[39m.\u001b[39m_NotOkStatusException \u001b[39mas\u001b[39;00m e:\n\u001b[0;32m-> 1427\u001b[0m   _ops\u001b[39m.\u001b[39;49mraise_from_not_ok_status(e, name)\n\u001b[1;32m   1428\u001b[0m \u001b[39mexcept\u001b[39;00m _core\u001b[39m.\u001b[39m_FallbackException:\n\u001b[1;32m   1429\u001b[0m   \u001b[39mpass\u001b[39;00m\n",
            "File \u001b[0;32m~/nlp/env/lib/python3.8/site-packages/tensorflow/python/framework/ops.py:6656\u001b[0m, in \u001b[0;36mraise_from_not_ok_status\u001b[0;34m(e, name)\u001b[0m\n\u001b[1;32m   6654\u001b[0m \u001b[39mdef\u001b[39;00m \u001b[39mraise_from_not_ok_status\u001b[39m(e, name):\n\u001b[1;32m   6655\u001b[0m   e\u001b[39m.\u001b[39mmessage \u001b[39m+\u001b[39m\u001b[39m=\u001b[39m (\u001b[39m\"\u001b[39m\u001b[39m name: \u001b[39m\u001b[39m\"\u001b[39m \u001b[39m+\u001b[39m \u001b[39mstr\u001b[39m(name \u001b[39mif\u001b[39;00m name \u001b[39mis\u001b[39;00m \u001b[39mnot\u001b[39;00m \u001b[39mNone\u001b[39;00m \u001b[39melse\u001b[39;00m \u001b[39m\"\u001b[39m\u001b[39m\"\u001b[39m))\n\u001b[0;32m-> 6656\u001b[0m   \u001b[39mraise\u001b[39;00m core\u001b[39m.\u001b[39m_status_to_exception(e) \u001b[39mfrom\u001b[39;00m \u001b[39mNone\u001b[39;00m\n",
            "\u001b[0;31mInvalidArgumentError\u001b[0m: Cannot assign a device for operation ResourceApplyAdam: Could not satisfy explicit device specification '/job:localhost/replica:0/task:0/device:GPU:0' because no supported kernel for GPU devices is available.\nColocation Debug Info:\nColocation group had the following types and supported devices: \nRoot Member(assigned_device_name_index_=1 requested_device_name_='/job:localhost/replica:0/task:0/device:GPU:0' assigned_device_name_='/job:localhost/replica:0/task:0/device:GPU:0' resource_device_name_='/job:localhost/replica:0/task:0/device:GPU:0' supported_device_types_=[CPU] possible_devices_=[]\nResourceApplyAdam: CPU \n_Arg: GPU CPU \n\nColocation members, user-requested devices, and framework assigned devices, if any:\n  var (_Arg)  framework assigned device=/job:localhost/replica:0/task:0/device:GPU:0\n  m (_Arg)  framework assigned device=/job:localhost/replica:0/task:0/device:GPU:0\n  v (_Arg)  framework assigned device=/job:localhost/replica:0/task:0/device:GPU:0\n  ResourceApplyAdam (ResourceApplyAdam) /job:localhost/replica:0/task:0/device:GPU:0\n\nOp: ResourceApplyAdam\nNode attrs: T=DT_DOUBLE, use_nesterov=false, use_locking=true\nRegistered kernels:\n  device='XLA_CPU_JIT'; T in [DT_FLOAT, DT_DOUBLE, DT_COMPLEX64, DT_BFLOAT16, DT_COMPLEX128, DT_HALF]\n  device='GPU'; T in [DT_FLOAT]\n  device='CPU'; T in [DT_HALF]\n  device='CPU'; T in [DT_BFLOAT16]\n  device='CPU'; T in [DT_FLOAT]\n  device='CPU'; T in [DT_DOUBLE]\n  device='CPU'; T in [DT_COMPLEX64]\n  device='CPU'; T in [DT_COMPLEX128]\n\n\t [[{{node ResourceApplyAdam}}]] [Op:ResourceApplyAdam] name: "
          ]
        }
      ],
      "source": [
        "loss_list = []\n",
        "for iter in tqdm(range(iterations)):\n",
        "  # Creation of window\n",
        "  for start in range(tokenized_text_size-WINDOW_SIZE):\n",
        "    indices = text_as_int[start:start+WINDOW_SIZE]\n",
        "    train_step(indices, loss_list)"
      ]
    },
    {
      "cell_type": "code",
      "execution_count": null,
      "metadata": {
        "colab": {
          "base_uri": "https://localhost:8080/",
          "height": 448
        },
        "id": "R34l5GPrz_ud",
        "outputId": "56bbdf35-33cd-4dbd-c0ef-ea170281a097"
      },
      "outputs": [
        {
          "data": {
            "text/plain": [
              "[<matplotlib.lines.Line2D at 0x7e6b20567550>]"
            ]
          },
          "execution_count": 21,
          "metadata": {},
          "output_type": "execute_result"
        },
        {
          "data": {
            "image/png": "[encoded data removed]",
            "text/plain": [
              "<Figure size 640x480 with 1 Axes>"
            ]
          },
          "metadata": {},
          "output_type": "display_data"
        }
      ],
      "source": [
        "plt.plot(loss_list)"
      ]
    },
    {
      "cell_type": "code",
      "execution_count": 18,
      "metadata": {
        "colab": {
          "base_uri": "https://localhost:8080/",
          "height": 425
        },
        "id": "P5x9liF3-pRS",
        "outputId": "a96d8895-afb2-4e2e-850f-13f2745d0dc0"
      },
      "outputs": [
        {
          "ename": "Error",
          "evalue": "plotly is required to log interactive plots, install with: `pip install plotly` or convert the plot to an image with `wandb.Image(plt)`",
          "output_type": "error",
          "traceback": [
            "\u001b[0;31m---------------------------------------------------------------------------\u001b[0m",
            "\u001b[0;31mError\u001b[0m                                     Traceback (most recent call last)",
            "\u001b[1;32m/Users/dalex/nlp/Embeddings/Word2Vec/CBOW.ipynb Cell 21\u001b[0m line \u001b[0;36m8\n\u001b[1;32m      <a href='vscode-notebook-cell:/Users/dalex/nlp/Embeddings/Word2Vec/CBOW.ipynb#X26sZmlsZQ%3D%3D?line=5'>6</a>\u001b[0m   plt\u001b[39m.\u001b[39mtext( i\u001b[39m+\u001b[39m\u001b[39m0.01\u001b[39m, j\u001b[39m+\u001b[39m\u001b[39m0.01\u001b[39m, ix_to_vocab[count])\n\u001b[1;32m      <a href='vscode-notebook-cell:/Users/dalex/nlp/Embeddings/Word2Vec/CBOW.ipynb#X26sZmlsZQ%3D%3D?line=6'>7</a>\u001b[0m   count \u001b[39m+\u001b[39m\u001b[39m=\u001b[39m \u001b[39m1\u001b[39m\n\u001b[0;32m----> <a href='vscode-notebook-cell:/Users/dalex/nlp/Embeddings/Word2Vec/CBOW.ipynb#X26sZmlsZQ%3D%3D?line=7'>8</a>\u001b[0m wandb\u001b[39m.\u001b[39;49mlog({\u001b[39m\"\u001b[39;49m\u001b[39mCenter Word Embeddings\u001b[39;49m\u001b[39m\"\u001b[39;49m: fig})\n\u001b[1;32m      <a href='vscode-notebook-cell:/Users/dalex/nlp/Embeddings/Word2Vec/CBOW.ipynb#X26sZmlsZQ%3D%3D?line=8'>9</a>\u001b[0m plt\u001b[39m.\u001b[39mshow()\n",
            "File \u001b[0;32m~/nlp/env/lib/python3.8/site-packages/wandb/sdk/wandb_run.py:419\u001b[0m, in \u001b[0;36m_run_decorator._noop.<locals>.wrapper\u001b[0;34m(self, *args, **kwargs)\u001b[0m\n\u001b[1;32m    416\u001b[0m         wandb\u001b[39m.\u001b[39mtermwarn(message, repeat\u001b[39m=\u001b[39m\u001b[39mFalse\u001b[39;00m)\n\u001b[1;32m    417\u001b[0m         \u001b[39mreturn\u001b[39;00m \u001b[39mcls\u001b[39m\u001b[39m.\u001b[39mDummy()\n\u001b[0;32m--> 419\u001b[0m \u001b[39mreturn\u001b[39;00m func(\u001b[39mself\u001b[39;49m, \u001b[39m*\u001b[39;49margs, \u001b[39m*\u001b[39;49m\u001b[39m*\u001b[39;49mkwargs)\n",
            "File \u001b[0;32m~/nlp/env/lib/python3.8/site-packages/wandb/sdk/wandb_run.py:370\u001b[0m, in \u001b[0;36m_run_decorator._noop_on_finish.<locals>.decorator_fn.<locals>.wrapper_fn\u001b[0;34m(self, *args, **kwargs)\u001b[0m\n\u001b[1;32m    367\u001b[0m \u001b[39m@functools\u001b[39m\u001b[39m.\u001b[39mwraps(func)\n\u001b[1;32m    368\u001b[0m \u001b[39mdef\u001b[39;00m \u001b[39mwrapper_fn\u001b[39m(\u001b[39mself\u001b[39m: Type[\u001b[39m\"\u001b[39m\u001b[39mRun\u001b[39m\u001b[39m\"\u001b[39m], \u001b[39m*\u001b[39margs: Any, \u001b[39m*\u001b[39m\u001b[39m*\u001b[39mkwargs: Any) \u001b[39m-\u001b[39m\u001b[39m>\u001b[39m Any:\n\u001b[1;32m    369\u001b[0m     \u001b[39mif\u001b[39;00m \u001b[39mnot\u001b[39;00m \u001b[39mgetattr\u001b[39m(\u001b[39mself\u001b[39m, \u001b[39m\"\u001b[39m\u001b[39m_is_finished\u001b[39m\u001b[39m\"\u001b[39m, \u001b[39mFalse\u001b[39;00m):\n\u001b[0;32m--> 370\u001b[0m         \u001b[39mreturn\u001b[39;00m func(\u001b[39mself\u001b[39;49m, \u001b[39m*\u001b[39;49margs, \u001b[39m*\u001b[39;49m\u001b[39m*\u001b[39;49mkwargs)\n\u001b[1;32m    372\u001b[0m     default_message \u001b[39m=\u001b[39m (\n\u001b[1;32m    373\u001b[0m         \u001b[39mf\u001b[39m\u001b[39m\"\u001b[39m\u001b[39mRun (\u001b[39m\u001b[39m{\u001b[39;00m\u001b[39mself\u001b[39m\u001b[39m.\u001b[39mid\u001b[39m}\u001b[39;00m\u001b[39m) is finished. The call to `\u001b[39m\u001b[39m{\u001b[39;00mfunc\u001b[39m.\u001b[39m\u001b[39m__name__\u001b[39m\u001b[39m}\u001b[39;00m\u001b[39m` will be ignored. \u001b[39m\u001b[39m\"\u001b[39m\n\u001b[1;32m    374\u001b[0m         \u001b[39mf\u001b[39m\u001b[39m\"\u001b[39m\u001b[39mPlease make sure that you are using an active run.\u001b[39m\u001b[39m\"\u001b[39m\n\u001b[1;32m    375\u001b[0m     )\n\u001b[1;32m    376\u001b[0m     resolved_message \u001b[39m=\u001b[39m message \u001b[39mor\u001b[39;00m default_message\n",
            "File \u001b[0;32m~/nlp/env/lib/python3.8/site-packages/wandb/sdk/wandb_run.py:360\u001b[0m, in \u001b[0;36m_run_decorator._attach.<locals>.wrapper\u001b[0;34m(self, *args, **kwargs)\u001b[0m\n\u001b[1;32m    358\u001b[0m         \u001b[39mraise\u001b[39;00m e\n\u001b[1;32m    359\u001b[0m     \u001b[39mcls\u001b[39m\u001b[39m.\u001b[39m_is_attaching \u001b[39m=\u001b[39m \u001b[39m\"\u001b[39m\u001b[39m\"\u001b[39m\n\u001b[0;32m--> 360\u001b[0m \u001b[39mreturn\u001b[39;00m func(\u001b[39mself\u001b[39;49m, \u001b[39m*\u001b[39;49margs, \u001b[39m*\u001b[39;49m\u001b[39m*\u001b[39;49mkwargs)\n",
            "File \u001b[0;32m~/nlp/env/lib/python3.8/site-packages/wandb/sdk/wandb_run.py:1792\u001b[0m, in \u001b[0;36mRun.log\u001b[0;34m(self, data, step, commit, sync)\u001b[0m\n\u001b[1;32m   1785\u001b[0m \u001b[39mif\u001b[39;00m sync \u001b[39mis\u001b[39;00m \u001b[39mnot\u001b[39;00m \u001b[39mNone\u001b[39;00m:\n\u001b[1;32m   1786\u001b[0m     deprecate\u001b[39m.\u001b[39mdeprecate(\n\u001b[1;32m   1787\u001b[0m         field_name\u001b[39m=\u001b[39mdeprecate\u001b[39m.\u001b[39mDeprecated\u001b[39m.\u001b[39mrun__log_sync,\n\u001b[1;32m   1788\u001b[0m         warning_message\u001b[39m=\u001b[39m(\n\u001b[1;32m   1789\u001b[0m             \u001b[39m\"\u001b[39m\u001b[39m`sync` argument is deprecated and does not affect the behaviour of `wandb.log`\u001b[39m\u001b[39m\"\u001b[39m\n\u001b[1;32m   1790\u001b[0m         ),\n\u001b[1;32m   1791\u001b[0m     )\n\u001b[0;32m-> 1792\u001b[0m \u001b[39mself\u001b[39;49m\u001b[39m.\u001b[39;49m_log(data\u001b[39m=\u001b[39;49mdata, step\u001b[39m=\u001b[39;49mstep, commit\u001b[39m=\u001b[39;49mcommit)\n",
            "File \u001b[0;32m~/nlp/env/lib/python3.8/site-packages/wandb/sdk/wandb_run.py:1567\u001b[0m, in \u001b[0;36mRun._log\u001b[0;34m(self, data, step, commit)\u001b[0m\n\u001b[1;32m   1564\u001b[0m \u001b[39mif\u001b[39;00m \u001b[39many\u001b[39m(\u001b[39mnot\u001b[39;00m \u001b[39misinstance\u001b[39m(key, \u001b[39mstr\u001b[39m) \u001b[39mfor\u001b[39;00m key \u001b[39min\u001b[39;00m data\u001b[39m.\u001b[39mkeys()):\n\u001b[1;32m   1565\u001b[0m     \u001b[39mraise\u001b[39;00m \u001b[39mValueError\u001b[39;00m(\u001b[39m\"\u001b[39m\u001b[39mKey values passed to `wandb.log` must be strings.\u001b[39m\u001b[39m\"\u001b[39m)\n\u001b[0;32m-> 1567\u001b[0m \u001b[39mself\u001b[39;49m\u001b[39m.\u001b[39;49m_partial_history_callback(data, step, commit)\n\u001b[1;32m   1569\u001b[0m \u001b[39mif\u001b[39;00m step \u001b[39mis\u001b[39;00m \u001b[39mnot\u001b[39;00m \u001b[39mNone\u001b[39;00m:\n\u001b[1;32m   1570\u001b[0m     \u001b[39mif\u001b[39;00m os\u001b[39m.\u001b[39mgetpid() \u001b[39m!=\u001b[39m \u001b[39mself\u001b[39m\u001b[39m.\u001b[39m_init_pid \u001b[39mor\u001b[39;00m \u001b[39mself\u001b[39m\u001b[39m.\u001b[39m_is_attached:\n",
            "File \u001b[0;32m~/nlp/env/lib/python3.8/site-packages/wandb/sdk/wandb_run.py:1439\u001b[0m, in \u001b[0;36mRun._partial_history_callback\u001b[0;34m(self, row, step, commit)\u001b[0m\n\u001b[1;32m   1436\u001b[0m \u001b[39mif\u001b[39;00m \u001b[39mself\u001b[39m\u001b[39m.\u001b[39m_backend \u001b[39mand\u001b[39;00m \u001b[39mself\u001b[39m\u001b[39m.\u001b[39m_backend\u001b[39m.\u001b[39minterface:\n\u001b[1;32m   1437\u001b[0m     not_using_tensorboard \u001b[39m=\u001b[39m \u001b[39mlen\u001b[39m(wandb\u001b[39m.\u001b[39mpatched[\u001b[39m\"\u001b[39m\u001b[39mtensorboard\u001b[39m\u001b[39m\"\u001b[39m]) \u001b[39m==\u001b[39m \u001b[39m0\u001b[39m\n\u001b[0;32m-> 1439\u001b[0m     \u001b[39mself\u001b[39;49m\u001b[39m.\u001b[39;49m_backend\u001b[39m.\u001b[39;49minterface\u001b[39m.\u001b[39;49mpublish_partial_history(\n\u001b[1;32m   1440\u001b[0m         row,\n\u001b[1;32m   1441\u001b[0m         user_step\u001b[39m=\u001b[39;49m\u001b[39mself\u001b[39;49m\u001b[39m.\u001b[39;49m_step,\n\u001b[1;32m   1442\u001b[0m         step\u001b[39m=\u001b[39;49mstep,\n\u001b[1;32m   1443\u001b[0m         flush\u001b[39m=\u001b[39;49mcommit,\n\u001b[1;32m   1444\u001b[0m         publish_step\u001b[39m=\u001b[39;49mnot_using_tensorboard,\n\u001b[1;32m   1445\u001b[0m     )\n",
            "File \u001b[0;32m~/nlp/env/lib/python3.8/site-packages/wandb/sdk/interface/interface.py:528\u001b[0m, in \u001b[0;36mInterfaceBase.publish_partial_history\u001b[0;34m(self, data, user_step, step, flush, publish_step, run)\u001b[0m\n\u001b[1;32m    517\u001b[0m \u001b[39mdef\u001b[39;00m \u001b[39mpublish_partial_history\u001b[39m(\n\u001b[1;32m    518\u001b[0m     \u001b[39mself\u001b[39m,\n\u001b[1;32m    519\u001b[0m     data: \u001b[39mdict\u001b[39m,\n\u001b[0;32m   (...)\u001b[0m\n\u001b[1;32m    524\u001b[0m     run: Optional[\u001b[39m\"\u001b[39m\u001b[39mRun\u001b[39m\u001b[39m\"\u001b[39m] \u001b[39m=\u001b[39m \u001b[39mNone\u001b[39;00m,\n\u001b[1;32m    525\u001b[0m ) \u001b[39m-\u001b[39m\u001b[39m>\u001b[39m \u001b[39mNone\u001b[39;00m:\n\u001b[1;32m    526\u001b[0m     run \u001b[39m=\u001b[39m run \u001b[39mor\u001b[39;00m \u001b[39mself\u001b[39m\u001b[39m.\u001b[39m_run\n\u001b[0;32m--> 528\u001b[0m     data \u001b[39m=\u001b[39m history_dict_to_json(run, data, step\u001b[39m=\u001b[39;49muser_step, ignore_copy_err\u001b[39m=\u001b[39;49m\u001b[39mTrue\u001b[39;49;00m)\n\u001b[1;32m    529\u001b[0m     data\u001b[39m.\u001b[39mpop(\u001b[39m\"\u001b[39m\u001b[39m_step\u001b[39m\u001b[39m\"\u001b[39m, \u001b[39mNone\u001b[39;00m)\n\u001b[1;32m    531\u001b[0m     \u001b[39m# add timestamp to the history request, if not already present\u001b[39;00m\n\u001b[1;32m    532\u001b[0m     \u001b[39m# the timestamp might come from the tensorboard log logic\u001b[39;00m\n",
            "File \u001b[0;32m~/nlp/env/lib/python3.8/site-packages/wandb/sdk/data_types/utils.py:52\u001b[0m, in \u001b[0;36mhistory_dict_to_json\u001b[0;34m(run, payload, step, ignore_copy_err)\u001b[0m\n\u001b[1;32m     48\u001b[0m         payload[key] \u001b[39m=\u001b[39m history_dict_to_json(\n\u001b[1;32m     49\u001b[0m             run, val, step\u001b[39m=\u001b[39mstep, ignore_copy_err\u001b[39m=\u001b[39mignore_copy_err\n\u001b[1;32m     50\u001b[0m         )\n\u001b[1;32m     51\u001b[0m     \u001b[39melse\u001b[39;00m:\n\u001b[0;32m---> 52\u001b[0m         payload[key] \u001b[39m=\u001b[39m val_to_json(\n\u001b[1;32m     53\u001b[0m             run, key, val, namespace\u001b[39m=\u001b[39;49mstep, ignore_copy_err\u001b[39m=\u001b[39;49mignore_copy_err\n\u001b[1;32m     54\u001b[0m         )\n\u001b[1;32m     56\u001b[0m \u001b[39mreturn\u001b[39;00m payload\n",
            "File \u001b[0;32m~/nlp/env/lib/python3.8/site-packages/wandb/sdk/data_types/utils.py:86\u001b[0m, in \u001b[0;36mval_to_json\u001b[0;34m(run, key, val, namespace, ignore_copy_err)\u001b[0m\n\u001b[1;32m     83\u001b[0m     val \u001b[39m=\u001b[39m wandb\u001b[39m.\u001b[39mTable(dataframe\u001b[39m=\u001b[39mval)\n\u001b[1;32m     85\u001b[0m \u001b[39melif\u001b[39;00m util\u001b[39m.\u001b[39mis_matplotlib_typename(typename) \u001b[39mor\u001b[39;00m util\u001b[39m.\u001b[39mis_plotly_typename(typename):\n\u001b[0;32m---> 86\u001b[0m     val \u001b[39m=\u001b[39m Plotly\u001b[39m.\u001b[39;49mmake_plot_media(val)\n\u001b[1;32m     87\u001b[0m \u001b[39melif\u001b[39;00m \u001b[39misinstance\u001b[39m(val, (\u001b[39mlist\u001b[39m, \u001b[39mtuple\u001b[39m, \u001b[39mrange\u001b[39m)) \u001b[39mand\u001b[39;00m \u001b[39mall\u001b[39m(\n\u001b[1;32m     88\u001b[0m     \u001b[39misinstance\u001b[39m(v, WBValue) \u001b[39mfor\u001b[39;00m v \u001b[39min\u001b[39;00m val\n\u001b[1;32m     89\u001b[0m ):\n\u001b[1;32m     90\u001b[0m     \u001b[39massert\u001b[39;00m run\n",
            "File \u001b[0;32m~/nlp/env/lib/python3.8/site-packages/wandb/sdk/data_types/plotly.py:49\u001b[0m, in \u001b[0;36mPlotly.make_plot_media\u001b[0;34m(cls, val)\u001b[0m\n\u001b[1;32m     47\u001b[0m     \u001b[39mif\u001b[39;00m util\u001b[39m.\u001b[39mmatplotlib_contains_images(val):\n\u001b[1;32m     48\u001b[0m         \u001b[39mreturn\u001b[39;00m Image(val)\n\u001b[0;32m---> 49\u001b[0m     val \u001b[39m=\u001b[39m util\u001b[39m.\u001b[39;49mmatplotlib_to_plotly(val)\n\u001b[1;32m     50\u001b[0m \u001b[39mreturn\u001b[39;00m \u001b[39mcls\u001b[39m(val)\n",
            "File \u001b[0;32m~/nlp/env/lib/python3.8/site-packages/wandb/util.py:506\u001b[0m, in \u001b[0;36mmatplotlib_to_plotly\u001b[0;34m(obj)\u001b[0m\n\u001b[1;32m    504\u001b[0m \u001b[39mdef\u001b[39;00m \u001b[39mmatplotlib_to_plotly\u001b[39m(obj: Any) \u001b[39m-\u001b[39m\u001b[39m>\u001b[39m Any:\n\u001b[1;32m    505\u001b[0m     obj \u001b[39m=\u001b[39m ensure_matplotlib_figure(obj)\n\u001b[0;32m--> 506\u001b[0m     tools \u001b[39m=\u001b[39m get_module(\n\u001b[1;32m    507\u001b[0m         \u001b[39m\"\u001b[39;49m\u001b[39mplotly.tools\u001b[39;49m\u001b[39m\"\u001b[39;49m,\n\u001b[1;32m    508\u001b[0m         required\u001b[39m=\u001b[39;49m(\n\u001b[1;32m    509\u001b[0m             \u001b[39m\"\u001b[39;49m\u001b[39mplotly is required to log interactive plots, install with: \u001b[39;49m\u001b[39m\"\u001b[39;49m\n\u001b[1;32m    510\u001b[0m             \u001b[39m\"\u001b[39;49m\u001b[39m`pip install plotly` or convert the plot to an image with `wandb.Image(plt)`\u001b[39;49m\u001b[39m\"\u001b[39;49m\n\u001b[1;32m    511\u001b[0m         ),\n\u001b[1;32m    512\u001b[0m     )\n\u001b[1;32m    513\u001b[0m     \u001b[39mreturn\u001b[39;00m tools\u001b[39m.\u001b[39mmpl_to_plotly(obj)\n",
            "File \u001b[0;32m~/nlp/env/lib/python3.8/site-packages/wandb/util.py:269\u001b[0m, in \u001b[0;36mget_module\u001b[0;34m(name, required, lazy)\u001b[0m\n\u001b[1;32m    267\u001b[0m             logger\u001b[39m.\u001b[39mexception(msg)\n\u001b[1;32m    268\u001b[0m \u001b[39mif\u001b[39;00m required \u001b[39mand\u001b[39;00m name \u001b[39min\u001b[39;00m _not_importable:\n\u001b[0;32m--> 269\u001b[0m     \u001b[39mraise\u001b[39;00m wandb\u001b[39m.\u001b[39mError(required)\n",
            "\u001b[0;31mError\u001b[0m: plotly is required to log interactive plots, install with: `pip install plotly` or convert the plot to an image with `wandb.Image(plt)`"
          ]
        },
        {
          "data": {
            "image/png": "[encoded data removed]",
            "text/plain": [
              "<Figure size 1000x500 with 1 Axes>"
            ]
          },
          "metadata": {},
          "output_type": "display_data"
        }
      ],
      "source": [
        "\n",
        "\n",
        "center_vector.numpy().shape\n",
        "fig = plt.figure(figsize=(10,5))\n",
        "count = 0\n",
        "for i,j in center_vector.numpy():\n",
        "  plt.scatter(i,j)\n",
        "  plt.text( i+0.01, j+0.01, ix_to_vocab[count])\n",
        "  count += 1\n",
        "wandb.log({\"Center Word Embeddings\": fig})\n",
        "plt.show()\n",
        "\n"
      ]
    }
  ],
  "metadata": {
    "accelerator": "GPU",
    "colab": {
      "provenance": []
    },
    "kernelspec": {
      "display_name": "Python 3",
      "language": "python",
      "name": "python3"
    },
    "language_info": {
      "codemirror_mode": {
        "name": "ipython",
        "version": 3
      },
      "file_extension": ".py",
      "mimetype": "text/x-python",
      "name": "python",
      "nbconvert_exporter": "python",
      "pygments_lexer": "ipython3",
      "version": "3.8.17"
    }
  },
  "nbformat": 4,
  "nbformat_minor": 0
}
