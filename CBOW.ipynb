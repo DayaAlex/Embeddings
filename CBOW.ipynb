{
  "nbformat": 4,
  "nbformat_minor": 0,
  "metadata": {
    "colab": {
      "name": "Cbow-Crude.ipynb",
      "provenance": [],
      "collapsed_sections": [],
      "include_colab_link": true
    },
    "kernelspec": {
      "name": "python3",
      "display_name": "Python 3"
    }
  },
  "cells": [
    {
      "cell_type": "markdown",
      "metadata": {
        "id": "view-in-github",
        "colab_type": "text"
      },
      "source": [
        "<a href=\"https://colab.research.google.com/github/cr0wley-zz/Embeddings/blob/main/CBOW.ipynb\" target=\"_parent\"><img src=\"https://colab.research.google.com/assets/colab-badge.svg\" alt=\"Open In Colab\"/></a>"
      ]
    },
    {
      "cell_type": "markdown",
      "metadata": {
        "id": "_2BP1puejRMk"
      },
      "source": [
        "# Imports\n",
        "The following packages are used:\n",
        "1. numpy\n",
        "2. tensorflow\n",
        "3. matplotlib\n",
        "4. tqdm"
      ]
    },
    {
      "cell_type": "code",
      "metadata": {
        "id": "E3S16EISfeTL"
      },
      "source": [
        "import numpy as np\n",
        "import tensorflow as tf\n",
        "from tqdm import tqdm\n",
        "import matplotlib.pyplot as plt"
      ],
      "execution_count": 1,
      "outputs": []
    },
    {
      "cell_type": "markdown",
      "metadata": {
        "id": "RpfZF94Tjs_I"
      },
      "source": [
        "# Data\n",
        "Due to the fact that we want a minimal implementation of CBOW we will use a small corpus."
      ]
    },
    {
      "cell_type": "code",
      "metadata": {
        "id": "SE2mxAi3j3wf"
      },
      "source": [
        "data = \"\"\"\n",
        "My name is Devjyoti. Your name is Aritra. Aritra loves football.\n",
        "Aritra also loves movies. Devjyoti only loves movies. Aritra likes western movies.\n",
        "Devjyoti likes eastern movies. Aritra plays cricket. Devjyoti plays ludo.\n",
        "Aritra can bowl very well. Devjyoti hates cricket.\n",
        "\"\"\""
      ],
      "execution_count": 2,
      "outputs": []
    },
    {
      "cell_type": "code",
      "metadata": {
        "id": "cfz6lMy1JCJB",
        "outputId": "47ef847c-20b8-49b6-e1f5-9db39d990a4b",
        "colab": {
          "base_uri": "https://localhost:8080/"
        }
      },
      "source": [
        "# Converts the data into tokens\n",
        "tokenized_text = tf.keras.preprocessing.text.text_to_word_sequence(data)\n",
        "tokenized_text_size = len(tokenized_text)\n",
        "# Creates a vocab of unique words\n",
        "vocab = sorted(set(tokenized_text))\n",
        "vocab_size = len(vocab)\n",
        "print('Vocab Size: {}'.format(len(vocab)))"
      ],
      "execution_count": 3,
      "outputs": [
        {
          "output_type": "stream",
          "text": [
            "Vocab Size: 22\n"
          ],
          "name": "stdout"
        }
      ]
    },
    {
      "cell_type": "code",
      "metadata": {
        "id": "ab01pIu86rty"
      },
      "source": [
        "def check_in_vocab(word:str, vocab:list) -> bool:\n",
        "  \"\"\"Checks whether a word is in the vocab\n",
        "\n",
        "  Arguments:\n",
        "    word (str): The word to check\n",
        "  \n",
        "  Returns:\n",
        "    bool: Returns whether the word is in the vocab or not\n",
        "  \"\"\"\n",
        "  return word in vocab"
      ],
      "execution_count": 4,
      "outputs": []
    },
    {
      "cell_type": "code",
      "metadata": {
        "id": "vMqXx1QSksfm",
        "outputId": "16f41850-9d41-44ed-f0e7-4e44d59fb7b7",
        "colab": {
          "base_uri": "https://localhost:8080/"
        }
      },
      "source": [
        "print(check_in_vocab(\"devjyoti\", vocab))"
      ],
      "execution_count": 5,
      "outputs": [
        {
          "output_type": "stream",
          "text": [
            "True\n"
          ],
          "name": "stdout"
        }
      ]
    },
    {
      "cell_type": "code",
      "metadata": {
        "id": "UlbSfHlg-uqp"
      },
      "source": [
        "# Map the vocab words to individual indices\n",
        "vocab_to_ix = {c:ix for ix,c in enumerate(vocab)}\n",
        "# Map the indices to the words in vocab\n",
        "ix_to_vocab = np.array(vocab)\n",
        "# Convert the data into numbers\n",
        "text_as_int = np.array([vocab_to_ix[c] for c in tokenized_text])"
      ],
      "execution_count": 6,
      "outputs": []
    },
    {
      "cell_type": "markdown",
      "metadata": {
        "id": "A5X1vTRxl2Ju"
      },
      "source": [
        "# Model parameters"
      ]
    },
    {
      "cell_type": "code",
      "metadata": {
        "id": "kAveEumofx-r"
      },
      "source": [
        "EMBEDDING_SIZE = 2\n",
        "WINDOW_SIZE = 5\n",
        "opt = tf.optimizers.Adam()\n",
        "iterations = 100\n",
        "# Here the word vectors are represented as row\n",
        "context_vector =  tf.Variable(np.random.rand(vocab_size, EMBEDDING_SIZE))\n",
        "center_vector = tf.Variable(np.random.rand(vocab_size, EMBEDDING_SIZE))"
      ],
      "execution_count": 7,
      "outputs": []
    },
    {
      "cell_type": "markdown",
      "metadata": {
        "id": "Y-iu5N_cnGnU"
      },
      "source": [
        "# Implemetation\n",
        "context_vector = (vocab x embedding)\n",
        "center_vector = (vocab x embedding)\n",
        "\n",
        "$w_{-2}$, $w_{-1}$, $w_0$, $w_1$, $w_2$\n",
        "\n",
        "Context words = {$w_{-2}$, $w_{-1}$, $w_1$, $w_2$} [FIXED]\n",
        "\n",
        "Center word =  $w_0$ [VARIABLE]\n",
        "\n",
        "after averaging all the context word vectors = $w_{avg}$ -> $u_{avg}$\n",
        "\n",
        "$\\boxed{u_{avg} * v_{j}; j=0...V}$"
      ]
    },
    {
      "cell_type": "code",
      "metadata": {
        "id": "WcvJJX0OqaUx"
      },
      "source": [
        "def train_step(indices, loss_list):\n",
        "  \"\"\"The training step\n",
        "\n",
        "  Arguments:\n",
        "    indices (list): The indices of the vocab in the window\n",
        "  \"\"\"\n",
        "  with tf.GradientTape() as tape:\n",
        "    # Context\n",
        "    u_avg = 0\n",
        "    for count,index in enumerate(indices):\n",
        "      if count != WINDOW_SIZE//2:\n",
        "        u_avg += context_vector[index,:]\n",
        "    u_avg /= WINDOW_SIZE-1\n",
        "    # Center\n",
        "    output = tf.matmul(center_vector, tf.expand_dims(u_avg ,1))\n",
        "    soft_out = tf.nn.softmax(output, axis=0)\n",
        "    loss = soft_out[indices[WINDOW_SIZE//2]]\n",
        "  loss_list.append(loss.numpy())\n",
        "  grad = tape.gradient(loss, [context_vector, center_vector])\n",
        "  opt.apply_gradients(zip(grad, [context_vector, center_vector]))"
      ],
      "execution_count": 8,
      "outputs": []
    },
    {
      "cell_type": "code",
      "metadata": {
        "id": "I460SZ8WvEJl",
        "outputId": "fb91a807-24d7-46aa-ddc9-d281a22963f4",
        "colab": {
          "base_uri": "https://localhost:8080/"
        }
      },
      "source": [
        "loss_list = []\n",
        "for iter in tqdm(range(iterations)):\n",
        "  # Creation of window\n",
        "  for start in range(tokenized_text_size-WINDOW_SIZE):\n",
        "    indices = text_as_int[start:start+WINDOW_SIZE] \n",
        "    train_step(indices, loss_list)"
      ],
      "execution_count": 30,
      "outputs": [
        {
          "output_type": "stream",
          "text": [
            "100%|██████████| 100/100 [00:15<00:00,  6.65it/s]\n"
          ],
          "name": "stderr"
        }
      ]
    },
    {
      "cell_type": "code",
      "metadata": {
        "id": "R34l5GPrz_ud",
        "outputId": "24dc1625-bddb-49af-d271-c210ceee443c",
        "colab": {
          "base_uri": "https://localhost:8080/",
          "height": 283
        }
      },
      "source": [
        "plt.plot(loss_list)"
      ],
      "execution_count": 31,
      "outputs": [
        {
          "output_type": "execute_result",
          "data": {
            "text/plain": [
              "[<matplotlib.lines.Line2D at 0x7f8e27a5d400>]"
            ]
          },
          "metadata": {
            "tags": []
          },
          "execution_count": 31
        },
        {
          "output_type": "display_data",
          "data": {
            "image/png": "[encoded data removed]",
            "text/plain": [
              "<Figure size 432x288 with 1 Axes>"
            ]
          },
          "metadata": {
            "tags": [],
            "needs_background": "light"
          }
        }
      ]
    },
    {
      "cell_type": "code",
      "metadata": {
        "id": "P5x9liF3-pRS",
        "outputId": "16e5b0ea-601e-478e-fe4d-1b551c53ba47",
        "colab": {
          "base_uri": "https://localhost:8080/",
          "height": 320
        }
      },
      "source": [
        "center_vector.numpy().shape\n",
        "plt.figure(figsize=(10,5))\n",
        "count = 0\n",
        "for i,j in center_vector.numpy():\n",
        "  plt.scatter(i,j)\n",
        "  plt.text( i+0.01, j+0.01, ix_to_vocab[count])\n",
        "  count += 1\n",
        "plt.show()"
      ],
      "execution_count": 33,
      "outputs": [
        {
          "output_type": "display_data",
          "data": {
            "image/png": "[encoded data removed]",
            "text/plain": [
              "<Figure size 720x360 with 1 Axes>"
            ]
          },
          "metadata": {
            "tags": [],
            "needs_background": "light"
          }
        }
      ]
    },
    {
      "cell_type": "code",
      "metadata": {
        "id": "Lzk-C7zG2uKE",
        "outputId": "a5e85ef2-9bdd-446c-c34f-dc96a62c86dc",
        "colab": {
          "base_uri": "https://localhost:8080/"
        }
      },
      "source": [
        "# EMBEDDING\n",
        "word1 = 'aritra'\n",
        "i = vocab_to_ix[word1]\n",
        "center_embed_i = context_vector[i]\n",
        "\n",
        "word2 = 'loves'\n",
        "j = vocab_to_ix[word2]\n",
        "center_embed_j = context_vector[j]\n",
        "\n",
        "distance = center_embed_i - center_embed_j\n",
        "\n",
        "min = []\n",
        "for i in range(vocab_size):\n",
        "  d = tf.norm(distance-context_vector[i], ord='euclidean')\n",
        "  min.append(d.numpy())\n",
        "\n",
        "index = np.argmin(min)\n",
        "word3 = ix_to_vocab[index]\n",
        "print('{word1} {word2} {word3}'.format(word1=word1, word2=word2, word3=word3))"
      ],
      "execution_count": 29,
      "outputs": [
        {
          "output_type": "stream",
          "text": [
            "aritra loves my\n"
          ],
          "name": "stdout"
        }
      ]
    }
  ]
}