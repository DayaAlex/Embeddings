{
  "nbformat": 4,
  "nbformat_minor": 0,
  "metadata": {
    "accelerator": "GPU",
    "colab": {
      "name": "Glove.ipynb",
      "provenance": []
    },
    "kernelspec": {
      "display_name": "Python 3",
      "language": "python",
      "name": "python3"
    },
    "language_info": {
      "codemirror_mode": {
        "name": "ipython",
        "version": 3
      },
      "file_extension": ".py",
      "mimetype": "text/x-python",
      "name": "python",
      "nbconvert_exporter": "python",
      "pygments_lexer": "ipython3",
      "version": "3.7.4"
    }
  },
  "cells": [
    {
      "cell_type": "markdown",
      "metadata": {
        "id": "WXR2ygJ-jPv5"
      },
      "source": [
        "# Imports"
      ]
    },
    {
      "cell_type": "code",
      "metadata": {
        "id": "-DVI-uUrJzrj"
      },
      "source": [
        "import numpy as np\n",
        "import tensorflow as tf\n",
        "from tqdm import tqdm\n",
        "import matplotlib.pyplot as plt"
      ],
      "execution_count": 1,
      "outputs": []
    },
    {
      "cell_type": "code",
      "metadata": {
        "id": "UtaRTEYo-bdb",
        "outputId": "70a5d4d9-688b-445d-e408-453aec8400bf",
        "colab": {
          "base_uri": "https://localhost:8080/"
        }
      },
      "source": [
        "!pip install wandb\n",
        "import wandb"
      ],
      "execution_count": 2,
      "outputs": [
        {
          "output_type": "stream",
          "text": [
            "Collecting wandb\n",
            "\u001b[?25l  Downloading https://files.pythonhosted.org/packages/93/7c/bf3cba8513f02c92fff0f0dab49846f1aa3da93c71fb4de7f34f501d15f0/wandb-0.10.11-py2.py3-none-any.whl (1.8MB)\n",
            "\u001b[K     |████████████████████████████████| 1.8MB 7.6MB/s \n",
            "\u001b[?25hCollecting sentry-sdk>=0.4.0\n",
            "\u001b[?25l  Downloading https://files.pythonhosted.org/packages/61/e1/3a9f8ca1009fc6a1e850801f2386e9d88b95147218cbe8c33bc4d60b3695/sentry_sdk-0.19.4-py2.py3-none-any.whl (128kB)\n",
            "\u001b[K     |████████████████████████████████| 133kB 29.8MB/s \n",
            "\u001b[?25hRequirement already satisfied: Click>=7.0 in /usr/local/lib/python3.6/dist-packages (from wandb) (7.1.2)\n",
            "Requirement already satisfied: python-dateutil>=2.6.1 in /usr/local/lib/python3.6/dist-packages (from wandb) (2.8.1)\n",
            "Requirement already satisfied: promise<3,>=2.0 in /usr/local/lib/python3.6/dist-packages (from wandb) (2.3)\n",
            "Collecting watchdog>=0.8.3\n",
            "\u001b[?25l  Downloading https://files.pythonhosted.org/packages/6f/10/500580a0987363a0d9e1f3dd5cb1bba94a47e19266c6ce9dfb6cdd455758/watchdog-0.10.4.tar.gz (98kB)\n",
            "\u001b[K     |████████████████████████████████| 102kB 12.3MB/s \n",
            "\u001b[?25hCollecting configparser>=3.8.1\n",
            "  Downloading https://files.pythonhosted.org/packages/08/b2/ef713e0e67f6e7ec7d59aea3ee78d05b39c15930057e724cc6d362a8c3bb/configparser-5.0.1-py3-none-any.whl\n",
            "Requirement already satisfied: PyYAML in /usr/local/lib/python3.6/dist-packages (from wandb) (3.13)\n",
            "Collecting docker-pycreds>=0.4.0\n",
            "  Downloading https://files.pythonhosted.org/packages/f5/e8/f6bd1eee09314e7e6dee49cbe2c5e22314ccdb38db16c9fc72d2fa80d054/docker_pycreds-0.4.0-py2.py3-none-any.whl\n",
            "Requirement already satisfied: requests<3,>=2.0.0 in /usr/local/lib/python3.6/dist-packages (from wandb) (2.23.0)\n",
            "Collecting subprocess32>=3.5.3\n",
            "\u001b[?25l  Downloading https://files.pythonhosted.org/packages/32/c8/564be4d12629b912ea431f1a50eb8b3b9d00f1a0b1ceff17f266be190007/subprocess32-3.5.4.tar.gz (97kB)\n",
            "\u001b[K     |████████████████████████████████| 102kB 10.6MB/s \n",
            "\u001b[?25hCollecting shortuuid>=0.5.0\n",
            "  Downloading https://files.pythonhosted.org/packages/25/a6/2ecc1daa6a304e7f1b216f0896b26156b78e7c38e1211e9b798b4716c53d/shortuuid-1.0.1-py3-none-any.whl\n",
            "Requirement already satisfied: psutil>=5.0.0 in /usr/local/lib/python3.6/dist-packages (from wandb) (5.4.8)\n",
            "Collecting GitPython>=1.0.0\n",
            "\u001b[?25l  Downloading https://files.pythonhosted.org/packages/24/d1/a7f8fe3df258549b303415157328bfcc63e9b11d06a7ad7a3327f3d32606/GitPython-3.1.11-py3-none-any.whl (159kB)\n",
            "\u001b[K     |████████████████████████████████| 163kB 26.8MB/s \n",
            "\u001b[?25hRequirement already satisfied: protobuf>=3.12.0 in /usr/local/lib/python3.6/dist-packages (from wandb) (3.12.4)\n",
            "Requirement already satisfied: six>=1.13.0 in /usr/local/lib/python3.6/dist-packages (from wandb) (1.15.0)\n",
            "Requirement already satisfied: certifi in /usr/local/lib/python3.6/dist-packages (from sentry-sdk>=0.4.0->wandb) (2020.11.8)\n",
            "Requirement already satisfied: urllib3>=1.10.0 in /usr/local/lib/python3.6/dist-packages (from sentry-sdk>=0.4.0->wandb) (1.24.3)\n",
            "Collecting pathtools>=0.1.1\n",
            "  Downloading https://files.pythonhosted.org/packages/e7/7f/470d6fcdf23f9f3518f6b0b76be9df16dcc8630ad409947f8be2eb0ed13a/pathtools-0.1.2.tar.gz\n",
            "Requirement already satisfied: chardet<4,>=3.0.2 in /usr/local/lib/python3.6/dist-packages (from requests<3,>=2.0.0->wandb) (3.0.4)\n",
            "Requirement already satisfied: idna<3,>=2.5 in /usr/local/lib/python3.6/dist-packages (from requests<3,>=2.0.0->wandb) (2.10)\n",
            "Collecting gitdb<5,>=4.0.1\n",
            "\u001b[?25l  Downloading https://files.pythonhosted.org/packages/48/11/d1800bca0a3bae820b84b7d813ad1eff15a48a64caea9c823fc8c1b119e8/gitdb-4.0.5-py3-none-any.whl (63kB)\n",
            "\u001b[K     |████████████████████████████████| 71kB 10.3MB/s \n",
            "\u001b[?25hRequirement already satisfied: setuptools in /usr/local/lib/python3.6/dist-packages (from protobuf>=3.12.0->wandb) (50.3.2)\n",
            "Collecting smmap<4,>=3.0.1\n",
            "  Downloading https://files.pythonhosted.org/packages/b0/9a/4d409a6234eb940e6a78dfdfc66156e7522262f5f2fecca07dc55915952d/smmap-3.0.4-py2.py3-none-any.whl\n",
            "Building wheels for collected packages: watchdog, subprocess32, pathtools\n",
            "  Building wheel for watchdog (setup.py) ... \u001b[?25l\u001b[?25hdone\n",
            "  Created wheel for watchdog: filename=watchdog-0.10.4-cp36-none-any.whl size=74841 sha256=83c1e322fd3a4f1b476f0386bfaf020acd4ff7ead5a343b948e97b747bb0e361\n",
            "  Stored in directory: /root/.cache/pip/wheels/9e/11/04/5160b8815b0cc7cf574bdc6d053e510169ec264c8791b4ec3a\n",
            "  Building wheel for subprocess32 (setup.py) ... \u001b[?25l\u001b[?25hdone\n",
            "  Created wheel for subprocess32: filename=subprocess32-3.5.4-cp36-none-any.whl size=6489 sha256=e7e892c85bb25a4b5ab4c152cb25213b708dfff55c6e8ca70d75120d9468e7d8\n",
            "  Stored in directory: /root/.cache/pip/wheels/68/39/1a/5e402bdfdf004af1786c8b853fd92f8c4a04f22aad179654d1\n",
            "  Building wheel for pathtools (setup.py) ... \u001b[?25l\u001b[?25hdone\n",
            "  Created wheel for pathtools: filename=pathtools-0.1.2-cp36-none-any.whl size=8785 sha256=49100a818b1743d3c1e5a5ead5886bedf00e3cc8bdf08344efff522ea96f440a\n",
            "  Stored in directory: /root/.cache/pip/wheels/0b/04/79/c3b0c3a0266a3cb4376da31e5bfe8bba0c489246968a68e843\n",
            "Successfully built watchdog subprocess32 pathtools\n",
            "Installing collected packages: sentry-sdk, pathtools, watchdog, configparser, docker-pycreds, subprocess32, shortuuid, smmap, gitdb, GitPython, wandb\n",
            "Successfully installed GitPython-3.1.11 configparser-5.0.1 docker-pycreds-0.4.0 gitdb-4.0.5 pathtools-0.1.2 sentry-sdk-0.19.4 shortuuid-1.0.1 smmap-3.0.4 subprocess32-3.5.4 wandb-0.10.11 watchdog-0.10.4\n"
          ],
          "name": "stdout"
        }
      ]
    },
    {
      "cell_type": "code",
      "metadata": {
        "id": "Y98bbnrm-eAK",
        "outputId": "de40020a-7bcd-43e0-c474-741b8b7dd4de",
        "colab": {
          "base_uri": "https://localhost:8080/",
          "height": 69
        }
      },
      "source": [
        "wandb.login()"
      ],
      "execution_count": 3,
      "outputs": [
        {
          "output_type": "display_data",
          "data": {
            "application/javascript": [
              "\n",
              "        window._wandbApiKey = new Promise((resolve, reject) => {\n",
              "            function loadScript(url) {\n",
              "            return new Promise(function(resolve, reject) {\n",
              "                let newScript = document.createElement(\"script\");\n",
              "                newScript.onerror = reject;\n",
              "                newScript.onload = resolve;\n",
              "                document.body.appendChild(newScript);\n",
              "                newScript.src = url;\n",
              "            });\n",
              "            }\n",
              "            loadScript(\"https://cdn.jsdelivr.net/npm/postmate/build/postmate.min.js\").then(() => {\n",
              "            const iframe = document.createElement('iframe')\n",
              "            iframe.style.cssText = \"width:0;height:0;border:none\"\n",
              "            document.body.appendChild(iframe)\n",
              "            const handshake = new Postmate({\n",
              "                container: iframe,\n",
              "                url: 'https://wandb.ai/authorize'\n",
              "            });\n",
              "            const timeout = setTimeout(() => reject(\"Couldn't auto authenticate\"), 5000)\n",
              "            handshake.then(function(child) {\n",
              "                child.on('authorize', data => {\n",
              "                    clearTimeout(timeout)\n",
              "                    resolve(data)\n",
              "                });\n",
              "            });\n",
              "            })\n",
              "        });\n",
              "    "
            ],
            "text/plain": [
              "<IPython.core.display.Javascript object>"
            ]
          },
          "metadata": {
            "tags": []
          }
        },
        {
          "output_type": "stream",
          "text": [
            "\u001b[34m\u001b[1mwandb\u001b[0m: Appending key for api.wandb.ai to your netrc file: /root/.netrc\n"
          ],
          "name": "stderr"
        },
        {
          "output_type": "execute_result",
          "data": {
            "text/plain": [
              "True"
            ]
          },
          "metadata": {
            "tags": []
          },
          "execution_count": 3
        }
      ]
    },
    {
      "cell_type": "code",
      "metadata": {
        "id": "Ei4bwYUFJ7v6"
      },
      "source": [
        "data = \"\"\"\n",
        "Marie Curie was one of the most accomplished scientists in history. Together with her husband, Pierre, she discovered radium, an element widely used for treating cancer, and studied uranium and other radioactive substances. Pierre and Marie’s amicable collaboration later helped to unlock the secrets of the atom.\n",
        "\n",
        "Marie was born in 1867 in Warsaw, Poland, where her father was a professor of physics. At an early age, she displayed a brilliant mind and a blithe personality. Her great exuberance for learning prompted her to continue with her studies after high school. She became disgruntled, however, when she learned that the university in Warsaw was closed to women. Determined to receive a higher education, she defiantly left Poland and in 1891 entered the Sorbonne, a French university, where she earned her master’s degree and doctorate in physics.\n",
        "\n",
        "Marie was fortunate to have studied at the Sorbonne with some of the greatest scientists of her day, one of whom was Pierre Curie. Marie and Pierre were married in 1895 and spent many productive years working together in the physics laboratory. A short time after they discovered radium, Pierre was killed by a horse-drawn wagon in 1906. Marie was stunned by this horrible misfortune and endured heartbreaking anguish. Despondently she recalled their close relationship and the joy that they had shared in scientific research. The fact that she had two young daughters to raise by herself greatly increased her distress.\n",
        "\n",
        "Curie’s feeling of desolation finally began to fade when she was asked to succeed her husband as a physics professor at the Sorbonne. She was the first woman to be given a professorship at the world-famous university. In 1911 she received the Nobel Prize in chemistry for isolating radium. Although Marie Curie eventually suffered a fatal illness from her long exposure to radium, she never became disillusioned about her work. Regardless of the consequences, she had dedicated herself to science and to revealing the mysteries of the physical world.. \n",
        "\"\"\""
      ],
      "execution_count": 4,
      "outputs": []
    },
    {
      "cell_type": "code",
      "metadata": {
        "id": "-_qad3FyKS4Z"
      },
      "source": [
        "def word_processor(data):\n",
        "  # Converts the data into tokens\n",
        "  tokenized_text = tf.keras.preprocessing.text.text_to_word_sequence(data)\n",
        "  tokenized_text_size = len(tokenized_text)\n",
        "  # Creates a vocab of unique words\n",
        "  vocab = sorted(set(tokenized_text))\n",
        "  vocab_size = len(vocab)\n",
        "  # Map the vocab words to individual indices\n",
        "  vocab_to_ix = {c:ix for ix,c in enumerate(vocab)}\n",
        "  # Map the indices to the words in vocab\n",
        "  ix_to_vocab = np.array(vocab)\n",
        "  # Convert the data into numbers\n",
        "  text_as_int = np.array([vocab_to_ix[c] for c in tokenized_text])\n",
        "  return vocab ,vocab_size, vocab_to_ix, ix_to_vocab, text_as_int"
      ],
      "execution_count": 5,
      "outputs": []
    },
    {
      "cell_type": "code",
      "metadata": {
        "id": "sGkunm8HLORS"
      },
      "source": [
        "def compute_co_occurrence_matrix(corpus, window_size=1):\n",
        "  vocab ,vocab_size, vocab_to_ix, ix_to_vocab, text_as_int = word_processor(corpus)\n",
        "  M = np.zeros((vocab_size, vocab_size))\n",
        "  \n",
        "  doc_len =  len(text_as_int)\n",
        "  for current_idx in range(doc_len):\n",
        "    left_boudary = max(current_idx-window_size, 0)\n",
        "    right_boundary = min(current_idx+window_size+1, doc_len)\n",
        "    outside_words = np.append(text_as_int[left_boudary:current_idx],text_as_int[current_idx+1:right_boundary])\n",
        "    center_word = text_as_int[current_idx]\n",
        "    for outside_word in outside_words:\n",
        "      M[center_word, outside_word] += 1\n",
        "  return M, vocab_to_ix, vocab_size, ix_to_vocab, text_as_int"
      ],
      "execution_count": 6,
      "outputs": []
    },
    {
      "cell_type": "code",
      "metadata": {
        "id": "CPPlf6ikLznQ"
      },
      "source": [
        "co_occurance_matrix, vocab_to_ix, vocab_size, ix_to_vocab, text_as_int   = compute_co_occurrence_matrix(data, 3)\n",
        "probability_matrix = co_occurance_matrix/co_occurance_matrix.sum(axis = 0)"
      ],
      "execution_count": 7,
      "outputs": []
    },
    {
      "cell_type": "code",
      "metadata": {
        "id": "pEl1dLm5Trvw"
      },
      "source": [
        "EMBEDDING_SIZE = 8\n",
        "context_vector =  tf.Variable(np.random.rand(vocab_size, EMBEDDING_SIZE))\n",
        "center_vector = tf.Variable(np.random.rand(vocab_size, EMBEDDING_SIZE))\n",
        "bias_center = tf.Variable(np.random.rand(vocab_size, 1))\n",
        "bias_context = tf.Variable(np.random.rand(vocab_size, 1))"
      ],
      "execution_count": 8,
      "outputs": []
    },
    {
      "cell_type": "code",
      "metadata": {
        "id": "XwH5yuDE-jns",
        "outputId": "1a5e3d72-7ade-4b6a-c51d-e4508bfe5e94",
        "colab": {
          "base_uri": "https://localhost:8080/",
          "height": 602
        }
      },
      "source": [
        "wandb.init(entity=\"authors\", project=\"embeddings-2\", name=\"GloVe-2\")"
      ],
      "execution_count": 9,
      "outputs": [
        {
          "output_type": "stream",
          "text": [
            "\u001b[34m\u001b[1mwandb\u001b[0m: Currently logged in as: \u001b[33mauthors\u001b[0m (use `wandb login --relogin` to force relogin)\n"
          ],
          "name": "stderr"
        },
        {
          "output_type": "display_data",
          "data": {
            "text/html": [
              "\n",
              "                Tracking run with wandb version 0.10.11<br/>\n",
              "                Syncing run <strong style=\"color:#cdcd00\">GloVe-2</strong> to <a href=\"https://wandb.ai\" target=\"_blank\">Weights & Biases</a> <a href=\"https://docs.wandb.com/integrations/jupyter.html\" target=\"_blank\">(Documentation)</a>.<br/>\n",
              "                Project page: <a href=\"https://wandb.ai/authors/embeddings-2\" target=\"_blank\">https://wandb.ai/authors/embeddings-2</a><br/>\n",
              "                Run page: <a href=\"https://wandb.ai/authors/embeddings-2/runs/chb471lu\" target=\"_blank\">https://wandb.ai/authors/embeddings-2/runs/chb471lu</a><br/>\n",
              "                Run data is saved locally in <code>/content/wandb/run-20201130_210903-chb471lu</code><br/><br/>\n",
              "            "
            ],
            "text/plain": [
              "<IPython.core.display.HTML object>"
            ]
          },
          "metadata": {
            "tags": []
          }
        },
        {
          "output_type": "execute_result",
          "data": {
            "text/plain": [
              "<wandb.sdk.wandb_run.Run at 0x7f80b38b3588>"
            ],
            "text/html": [
              "<h1>Run(chb471lu)</h1><p></p><iframe src=\"https://wandb.ai/authors/embeddings-2/runs/chb471lu\" style=\"border:none;width:100%;height:400px\"></iframe>"
            ]
          },
          "metadata": {
            "tags": []
          },
          "execution_count": 9
        }
      ]
    },
    {
      "cell_type": "code",
      "metadata": {
        "id": "gzbMWkvxYO6N"
      },
      "source": [
        "def weighted_func(x, count_max, scaling_factor):\n",
        "  return tf.math.minimum(\n",
        "      1.0,\n",
        "      tf.math.pow(\n",
        "          tf.math.divide(x, count_max),\n",
        "          scaling_factor))"
      ],
      "execution_count": 10,
      "outputs": []
    },
    {
      "cell_type": "code",
      "metadata": {
        "id": "BS3bhvzFUVs4"
      },
      "source": [
        "def train_step(indices, loss_list):\n",
        "  \"\"\"The training step\n",
        "\n",
        "  Arguments:\n",
        "    indices (list): The indices of the vocab in the window\n",
        "  \"\"\"\n",
        "  \n",
        "  with tf.GradientTape() as tape:\n",
        "     cost = tf.Variable(0.0, dtype=tf.float64)\n",
        "     for i in indices:\n",
        "       center_em = center_vector[i] #a vector (8,)\n",
        "       context_em = tf.gather(context_vector, indices) #a matrix (index,8)\n",
        "\n",
        "       embedding_product = tf.math.reduce_sum(tf.math.multiply(center_em, context_em), 1)\n",
        "\n",
        "       log_cooccurrences = tf.math.log(1+co_occurance_matrix[i, indices])\n",
        "       distance_expr = tf.square(tf.add_n([\n",
        "                                           embedding_product,\n",
        "                                           tf.negative(log_cooccurrences)\n",
        "                                           ]))\n",
        "       single_losses = tf.math.multiply(weighted_func(co_occurance_matrix[i, indices],100,(3/4)), distance_expr)\n",
        "       cost = cost+single_losses\n",
        "  \n",
        "  loss_list.append(cost.numpy().mean())\n",
        "  wandb.log({\"loss (GloVe)\":cost.numpy().mean()})\n",
        "  grad = tape.gradient(cost, [context_vector, center_vector])\n",
        "  opt.apply_gradients(zip(grad, [context_vector, center_vector]))"
      ],
      "execution_count": 11,
      "outputs": []
    },
    {
      "cell_type": "code",
      "metadata": {
        "colab": {
          "base_uri": "https://localhost:8080/"
        },
        "id": "tHwtDQTFXLbx",
        "outputId": "1dd64049-7a65-487c-e898-ea7e1a6a2718"
      },
      "source": [
        "opt = tf.keras.optimizers.Adam()\n",
        "loss_list = []\n",
        "batch_size = 128\n",
        "iterations = 1000\n",
        "for iter in tqdm(range(iterations)):\n",
        "  # indices = np.random.randint(low=0, high=vocab_size, size=batch_size)\n",
        "  indices = range(0,vocab_size)\n",
        "  train_step(indices, loss_list)"
      ],
      "execution_count": 12,
      "outputs": [
        {
          "output_type": "stream",
          "text": [
            "100%|██████████| 1000/1000 [07:45<00:00,  2.15it/s]\n"
          ],
          "name": "stderr"
        }
      ]
    },
    {
      "cell_type": "code",
      "metadata": {
        "id": "cetQQ1vq-20A"
      },
      "source": [
        "fig = plt.figure()\n",
        "plt.plot(loss_list)\n",
        "wandb.log({\"loss (GloVe)\": fig}) \n",
        "plt.show()"
      ],
      "execution_count": 13,
      "outputs": []
    },
    {
      "cell_type": "code",
      "metadata": {
        "colab": {
          "base_uri": "https://localhost:8080/",
          "height": 283
        },
        "id": "orp33EM6gUbd",
        "outputId": "b6de404c-4114-4781-f48f-be40ca9e2a89"
      },
      "source": [
        "plt.plot(loss_list)"
      ],
      "execution_count": 14,
      "outputs": [
        {
          "output_type": "execute_result",
          "data": {
            "text/plain": [
              "[<matplotlib.lines.Line2D at 0x7f80422c9be0>]"
            ]
          },
          "metadata": {
            "tags": []
          },
          "execution_count": 14
        },
        {
          "output_type": "display_data",
          "data": {
            "image/png": "[encoded data removed]",
            "text/plain": [
              "<Figure size 432x288 with 1 Axes>"
            ]
          },
          "metadata": {
            "tags": [],
            "needs_background": "light"
          }
        }
      ]
    },
    {
      "cell_type": "code",
      "metadata": {
        "id": "M0SkXXD17GBR"
      },
      "source": [
        "from sklearn.manifold import TSNE\n",
        "\n",
        "center_vector_embedded = TSNE(n_components=2).fit_transform(center_vector.numpy())"
      ],
      "execution_count": 15,
      "outputs": []
    },
    {
      "cell_type": "code",
      "metadata": {
        "id": "XPKWq_EWw0DT"
      },
      "source": [
        "fig = plt.figure()\n",
        "count = 0\n",
        "for i,j in center_vector_embedded[:20]:\n",
        "  plt.scatter(i,j)\n",
        "  plt.text( i+0.01, j+0.01, ix_to_vocab[count])\n",
        "  count += 1\n",
        "wandb.log({\"Center Word Embeddings (GloVe)\": fig})   \n",
        "plt.show()  "
      ],
      "execution_count": 16,
      "outputs": []
    }
  ]
}