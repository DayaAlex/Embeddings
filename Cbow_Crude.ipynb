{
  "nbformat": 4,
  "nbformat_minor": 0,
  "metadata": {
    "colab": {
      "name": "Cbow-Crude.ipynb",
      "provenance": [],
      "collapsed_sections": [],
      "authorship_tag": "ABX9TyNSWfxdc6A0KN0gRJr96g8R",
      "include_colab_link": true
    },
    "kernelspec": {
      "name": "python3",
      "display_name": "Python 3"
    },
    "accelerator": "GPU"
  },
  "cells": [
    {
      "cell_type": "markdown",
      "metadata": {
        "id": "view-in-github",
        "colab_type": "text"
      },
      "source": [
        "<a href=\"https://colab.research.google.com/github/cr0wley-zz/Embeddings/blob/main/Cbow_Crude.ipynb\" target=\"_parent\"><img src=\"https://colab.research.google.com/assets/colab-badge.svg\" alt=\"Open In Colab\"/></a>"
      ]
    },
    {
      "cell_type": "code",
      "metadata": {
        "id": "E3S16EISfeTL"
      },
      "source": [
        "import numpy as np\n",
        "import tensorflow as tf\n",
        "from tqdm import tqdm\n",
        "import matplotlib.pyplot as plt\n",
        "import urllib.request\n",
        "%matplotlib inline"
      ],
      "execution_count": null,
      "outputs": []
    },
    {
      "cell_type": "code",
      "metadata": {
        "id": "UpqdmwcIfhO9",
        "outputId": "d2a4e3b1-8554-40a2-b0d1-ad8b42142c02",
        "colab": {
          "base_uri": "https://localhost:8080/",
          "height": 35
        }
      },
      "source": [
        "url = 'https://storage.googleapis.com/download.tensorflow.org/data/shakespeare.txt'\n",
        "filename = 'input.txt'\n",
        "urllib.request.urlretrieve(url, filename)"
      ],
      "execution_count": null,
      "outputs": [
        {
          "output_type": "execute_result",
          "data": {
            "text/plain": [
              "('input.txt', <http.client.HTTPMessage at 0x7fd2c119a898>)"
            ]
          },
          "metadata": {
            "tags": []
          },
          "execution_count": 2
        }
      ]
    },
    {
      "cell_type": "code",
      "metadata": {
        "id": "cfz6lMy1JCJB",
        "outputId": "4ff444e7-f8c6-4d80-9170-fbe4cebcea14",
        "colab": {
          "base_uri": "https://localhost:8080/",
          "height": 35
        }
      },
      "source": [
        "text = open('input.txt','r').read()\n",
        "tokenized_text = tf.keras.preprocessing.text.text_to_word_sequence(text)[:5000]\n",
        "vocab = sorted(set(tokenized_text))\n",
        "vocab_size = len(vocab)\n",
        "print('Vocab Size: {}'.format(len(vocab)))"
      ],
      "execution_count": null,
      "outputs": [
        {
          "output_type": "stream",
          "text": [
            "Vocab Size: 1389\n"
          ],
          "name": "stdout"
        }
      ]
    },
    {
      "cell_type": "code",
      "metadata": {
        "id": "ab01pIu86rty",
        "outputId": "90621918-ecc0-4b0d-f2b1-c51a5a0a6394",
        "colab": {
          "base_uri": "https://localhost:8080/",
          "height": 35
        }
      },
      "source": [
        "'queen' in vocab"
      ],
      "execution_count": null,
      "outputs": [
        {
          "output_type": "execute_result",
          "data": {
            "text/plain": [
              "False"
            ]
          },
          "metadata": {
            "tags": []
          },
          "execution_count": 42
        }
      ]
    },
    {
      "cell_type": "code",
      "metadata": {
        "id": "UlbSfHlg-uqp"
      },
      "source": [
        "vocab_to_ix = {c:ix for ix,c in enumerate(vocab)}\n",
        "ix_to_vocab = np.array(vocab)\n",
        "text_as_int = np.array([vocab_to_ix[c] for c in tokenized_text])"
      ],
      "execution_count": null,
      "outputs": []
    },
    {
      "cell_type": "code",
      "metadata": {
        "id": "kAveEumofx-r"
      },
      "source": [
        "EMBEDDING_SIZE = 500\n",
        "embedding_matrix_enc =  tf.Variable(np.random.rand(EMBEDDING_SIZE, vocab_size))\n",
        "embedding_matrix_dec = tf.Variable(np.random.rand(vocab_size, EMBEDDING_SIZE))"
      ],
      "execution_count": null,
      "outputs": []
    },
    {
      "cell_type": "code",
      "metadata": {
        "id": "P7w7vpYwfznr"
      },
      "source": [
        "data = []\n",
        "\n",
        "for i in range(2, len(text_as_int) - 5):\n",
        "    context = np.array([text_as_int[i-2], text_as_int[i-1],\n",
        "               text_as_int[i+1], text_as_int[i+2]])\n",
        "    target = text_as_int[i]\n",
        "    data.append((context, target))"
      ],
      "execution_count": null,
      "outputs": []
    },
    {
      "cell_type": "code",
      "metadata": {
        "id": "00yLnZUPf61T"
      },
      "source": [
        "def encoding(contxt,enc_matrix):\n",
        "  sm = 0\n",
        "  for i in contxt:\n",
        "    sm = sm + enc_matrix[:,i]\n",
        "  return sm/4  \n"
      ],
      "execution_count": null,
      "outputs": []
    },
    {
      "cell_type": "code",
      "metadata": {
        "id": "f7qNCg4CDiZU"
      },
      "source": [
        "def decoding(embeddings, dec_matrix):\n",
        "  return tf.matmul(dec_matrix, embeddings)"
      ],
      "execution_count": null,
      "outputs": []
    },
    {
      "cell_type": "code",
      "metadata": {
        "id": "RYex7t17EyZW"
      },
      "source": [
        "def loss(decoded, target):\n",
        "  decoded_exp = tf.exp(decoded)\n",
        "  decoded_soft = decoded_exp/tf.reduce_sum(decoded_exp)\n",
        "  soft_loss = -1 * tf.math.log(decoded_soft[target])\n",
        "  return soft_loss\n"
      ],
      "execution_count": null,
      "outputs": []
    },
    {
      "cell_type": "code",
      "metadata": {
        "id": "jJB0aGhqf9PD"
      },
      "source": [
        "def train_step(cntxt, trgt,t_l):\n",
        "\n",
        "  with tf.GradientTape() as tape:\n",
        "    enc = encoding(cntxt,embedding_matrix_enc)\n",
        "    dec = decoding(tf.reshape(enc, (-1, 1)), embedding_matrix_dec)\n",
        "    l = loss(dec, trgt)\n",
        "\n",
        "  t_l.append(l.numpy())      \n",
        "  grad = tape.gradient(l, [embedding_matrix_enc, embedding_matrix_dec])\n",
        "  opt.apply_gradients(zip(grad, [embedding_matrix_enc, embedding_matrix_dec]))\n",
        "    \n",
        "\n",
        "    "
      ],
      "execution_count": null,
      "outputs": []
    },
    {
      "cell_type": "code",
      "metadata": {
        "id": "joknBmXUgBCj",
        "outputId": "dc2bf7a6-7af4-4e22-d8f6-8a7961297fc5",
        "colab": {
          "base_uri": "https://localhost:8080/",
          "height": 35
        }
      },
      "source": [
        "epochs = 200\n",
        "t_l = []\n",
        "opt = tf.keras.optimizers.SGD(learning_rate=0.01)\n",
        "for i in tqdm(range(epochs)):\n",
        "    for cntxt, trgt in data:\n",
        "        train_step(cntxt, trgt, t_l)"
      ],
      "execution_count": null,
      "outputs": [
        {
          "output_type": "stream",
          "text": [
            "100%|██████████| 200/200 [1:14:17<00:00, 22.29s/it]\n"
          ],
          "name": "stderr"
        }
      ]
    },
    {
      "cell_type": "code",
      "metadata": {
        "id": "nv8_sYHLiQAu",
        "outputId": "77067cb4-6324-4346-b9bd-768894042582",
        "colab": {
          "base_uri": "https://localhost:8080/",
          "height": 295
        }
      },
      "source": [
        "plt.figure()\n",
        "plt.plot(t_l)"
      ],
      "execution_count": null,
      "outputs": [
        {
          "output_type": "execute_result",
          "data": {
            "text/plain": [
              "[<matplotlib.lines.Line2D at 0x7fd214ce5ac8>]"
            ]
          },
          "metadata": {
            "tags": []
          },
          "execution_count": 18
        },
        {
          "output_type": "display_data",
          "data": {
            "image/png": "[encoded data removed]",
            "text/plain": [
              "<Figure size 432x288 with 1 Axes>"
            ]
          },
          "metadata": {
            "tags": [],
            "needs_background": "light"
          }
        }
      ]
    },
    {
      "cell_type": "code",
      "metadata": {
        "id": "uWL10GnPR3Xu"
      },
      "source": [
        "from sklearn.manifold import TSNE\n",
        "\n",
        "\n",
        "TSNE_embedd = TSNE(n_components=3).fit_transform(embedding_matrix_enc.numpy().T)\n",
        "TSNE_decod = TSNE(n_components=3).fit_transform(embedding_matrix_dec.numpy().T)"
      ],
      "execution_count": null,
      "outputs": []
    },
    {
      "cell_type": "code",
      "metadata": {
        "id": "W24NWKR3NIvd"
      },
      "source": [
        "cnt = 0 \n",
        "for x,y in TSNE_embedd:\n",
        "  plt.scatter(x,y)\n",
        "  plt.annotate(ix_to_vocab[cnt], (x,y))\n",
        "  cnt += 1\n",
        "\n",
        "plt.show()"
      ],
      "execution_count": null,
      "outputs": []
    },
    {
      "cell_type": "code",
      "metadata": {
        "id": "96xs9rntKrAV",
        "outputId": "1fa7e3ea-f21a-4bb7-eb22-505400c4053b",
        "colab": {
          "base_uri": "https://localhost:8080/",
          "height": 248
        }
      },
      "source": [
        "cnt = 0\n",
        "fig = plt.figure()\n",
        "ax = fig.add_subplot(111, projection='3d')\n",
        "\n",
        "for x,y,z in TSNE_embedd[400:450]:\n",
        "  ax.scatter(x, y, z)\n",
        "  #ax.text(x, y, z)\n",
        "  cnt += 1\n",
        "\n",
        "plt.show()\n"
      ],
      "execution_count": null,
      "outputs": [
        {
          "output_type": "display_data",
          "data": {
            "image/png": "[encoded data removed]",
            "text/plain": [
              "<Figure size 432x288 with 1 Axes>"
            ]
          },
          "metadata": {
            "tags": [],
            "needs_background": "light"
          }
        }
      ]
    },
    {
      "cell_type": "code",
      "metadata": {
        "id": "LfNWifIqiU1s"
      },
      "source": [
        "def cbow_output(data):\n",
        "    ans = embed(data)\n",
        "    enc = cbow_enc(ans[0])\n",
        "    dec = cbow_dec(enc)\n",
        "    \n",
        "    index = np.argmax(dec.numpy())\n",
        "    x = list(vocab)\n",
        "    return x[index]\n",
        "    "
      ],
      "execution_count": null,
      "outputs": []
    },
    {
      "cell_type": "code",
      "metadata": {
        "id": "tiW8YN7Hi8Bp",
        "outputId": "85022624-79b1-4858-9d2d-7171f24e29f0",
        "colab": {
          "base_uri": "https://localhost:8080/",
          "height": 544
        }
      },
      "source": [
        "for i in range(0, vocab_size-1):\n",
        "  print(cbow_output(data[i]),data[i][1]) "
      ],
      "execution_count": null,
      "outputs": [
        {
          "output_type": "stream",
          "text": [
            "can is\n",
            "devjyoti. devjyoti.\n",
            "so? your\n",
            "discuss name\n",
            "can is\n",
            "are. aritra.\n",
            "discuss i\n",
            "can can\n",
            "talk keep\n",
            "talk talking\n",
            "my about\n",
            "other. names\n",
            "but but\n",
            "discuss let's\n",
            "other. not\n",
            "how talk\n",
            "devjyoti. about\n",
            "other. each\n",
            "other. other.\n",
            "names we\n",
            "is can\n",
            "names discuss\n",
            "names names\n",
            "think later.\n",
            "are. but\n",
            "talk first\n",
            "to i\n",
            "can want\n",
            "talk to\n",
            "talk talk\n",
            "let's how\n"
          ],
          "name": "stdout"
        }
      ]
    },
    {
      "cell_type": "code",
      "metadata": {
        "id": "iNWXCHy4jGMN",
        "outputId": "5643d5de-66b2-4305-9233-6e87c1226a39",
        "colab": {
          "base_uri": "https://localhost:8080/",
          "height": 34
        }
      },
      "source": [
        "print(data[2][1])"
      ],
      "execution_count": null,
      "outputs": [
        {
          "output_type": "stream",
          "text": [
            "your\n"
          ],
          "name": "stdout"
        }
      ]
    },
    {
      "cell_type": "code",
      "metadata": {
        "id": "I460SZ8WvEJl"
      },
      "source": [
        ""
      ],
      "execution_count": null,
      "outputs": []
    }
  ]
}