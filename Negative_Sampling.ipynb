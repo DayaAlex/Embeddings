{
  "nbformat": 4,
  "nbformat_minor": 0,
  "metadata": {
    "colab": {
      "name": "Negative_Sampling.ipynb",
      "provenance": [],
      "collapsed_sections": [],
      "authorship_tag": "ABX9TyO7trsEWUeiNqSo5ghS9F49",
      "include_colab_link": true
    },
    "kernelspec": {
      "name": "python3",
      "display_name": "Python 3"
    }
  },
  "cells": [
    {
      "cell_type": "markdown",
      "metadata": {
        "id": "view-in-github",
        "colab_type": "text"
      },
      "source": [
        "<a href=\"https://colab.research.google.com/github/cr0wley-zz/Embeddings/blob/main/Negative_Sampling.ipynb\" target=\"_parent\"><img src=\"https://colab.research.google.com/assets/colab-badge.svg\" alt=\"Open In Colab\"/></a>"
      ]
    },
    {
      "cell_type": "code",
      "metadata": {
        "id": "SWLFEhqxu3fg"
      },
      "source": [
        "import numpy as np\n",
        "import tensorflow as tf\n",
        "from tqdm import tqdm\n",
        "import matplotlib.pyplot as plt"
      ],
      "execution_count": 1,
      "outputs": []
    },
    {
      "cell_type": "code",
      "metadata": {
        "id": "Kr-BjSv1u7Su"
      },
      "source": [
        "data = \"\"\"\n",
        "Marie Curie was one of the most accomplished scientists in history. Together with her husband, Pierre, she discovered radium, an element widely used for treating cancer, and studied uranium and other radioactive substances. Pierre and Marie’s amicable collaboration later helped to unlock the secrets of the atom.\n",
        "\n",
        "Marie was born in 1867 in Warsaw, Poland, where her father was a professor of physics. At an early age, she displayed a brilliant mind and a blithe personality. Her great exuberance for learning prompted her to continue with her studies after high school. She became disgruntled, however, when she learned that the university in Warsaw was closed to women. Determined to receive a higher education, she defiantly left Poland and in 1891 entered the Sorbonne, a French university, where she earned her master’s degree and doctorate in physics.\n",
        "\n",
        "Marie was fortunate to have studied at the Sorbonne with some of the greatest scientists of her day, one of whom was Pierre Curie. Marie and Pierre were married in 1895 and spent many productive years working together in the physics laboratory. A short time after they discovered radium, Pierre was killed by a horse-drawn wagon in 1906. Marie was stunned by this horrible misfortune and endured heartbreaking anguish. Despondently she recalled their close relationship and the joy that they had shared in scientific research. The fact that she had two young daughters to raise by herself greatly increased her distress.\n",
        "\n",
        "Curie’s feeling of desolation finally began to fade when she was asked to succeed her husband as a physics professor at the Sorbonne. She was the first woman to be given a professorship at the world-famous university. In 1911 she received the Nobel Prize in chemistry for isolating radium. Although Marie Curie eventually suffered a fatal illness from her long exposure to radium, she never became disillusioned about her work. Regardless of the consequences, she had dedicated herself to science and to revealing the mysteries of the physical world.\n",
        "\"\"\""
      ],
      "execution_count": 2,
      "outputs": []
    },
    {
      "cell_type": "code",
      "metadata": {
        "colab": {
          "base_uri": "https://localhost:8080/"
        },
        "id": "H5Yqbe-avQFh",
        "outputId": "b3ae689e-b3a9-4b19-b5e5-a20f866a483f"
      },
      "source": [
        "# Converts the data into tokens\n",
        "tokenized_text = tf.keras.preprocessing.text.text_to_word_sequence(data)\n",
        "tokenized_text_size = len(tokenized_text)\n",
        "# Creates a vocab of unique words\n",
        "vocab = sorted(set(tokenized_text))\n",
        "vocab_size = len(vocab)\n",
        "print('Vocab Size: {}'.format(len(vocab)))"
      ],
      "execution_count": 3,
      "outputs": [
        {
          "output_type": "stream",
          "text": [
            "Vocab Size: 181\n"
          ],
          "name": "stdout"
        }
      ]
    },
    {
      "cell_type": "code",
      "metadata": {
        "id": "hmCD5qJfvA-V"
      },
      "source": [
        "# Map the vocab words to individual indices\n",
        "vocab_to_ix = {c:ix for ix,c in enumerate(vocab)}\n",
        "# Map the indices to the words in vocab\n",
        "ix_to_vocab = np.array(vocab)\n",
        "# Convert the data into numbers\n",
        "text_as_int = np.array([vocab_to_ix[c] for c in tokenized_text])"
      ],
      "execution_count": 4,
      "outputs": []
    },
    {
      "cell_type": "code",
      "metadata": {
        "id": "Wrdd6B8jvNzM"
      },
      "source": [
        "EMBEDDING_SIZE = 9\n",
        "WINDOW_SIZE = 5\n",
        "opt = tf.optimizers.Adam()\n",
        "iterations = 200\n",
        "\n",
        "# Here the word vectors are represented as row\n",
        "context_vector =  tf.Variable(np.random.rand(vocab_size, EMBEDDING_SIZE))\n",
        "center_vector = tf.Variable(np.random.rand(vocab_size, EMBEDDING_SIZE))"
      ],
      "execution_count": 5,
      "outputs": []
    },
    {
      "cell_type": "code",
      "metadata": {
        "colab": {
          "base_uri": "https://localhost:8080/"
        },
        "id": "TMsdkLZWzD4f",
        "outputId": "6fbbb964-7686-4ffc-9451-31b4cc923783"
      },
      "source": [
        "np.random.choice([1,2,3,4,5,6,7], 6, replace = False)"
      ],
      "execution_count": 6,
      "outputs": [
        {
          "output_type": "execute_result",
          "data": {
            "text/plain": [
              "array([2, 4, 1, 7, 5, 6])"
            ]
          },
          "metadata": {
            "tags": []
          },
          "execution_count": 6
        }
      ]
    },
    {
      "cell_type": "code",
      "metadata": {
        "id": "WGwwd6nfvWyF"
      },
      "source": [
        "def train_step(indices, loss_list):\n",
        "  \"\"\"The training step\n",
        "\n",
        "  Arguments:\n",
        "    indices (list): The indices of the vocab in the window\n",
        "  \"\"\"\n",
        "  \n",
        "  with tf.GradientTape() as tape:\n",
        "    loss = tf.Variable(0.0, dtype = tf.float64)\n",
        "    v_center = tf.expand_dims(center_vector[ indices[WINDOW_SIZE//2],:],1)\n",
        "\n",
        "    index_context = list(filter(lambda x: x not in indices, list(range(vocab_size))))\n",
        "    rand_neg_indices = np.random.choice(index_context, 10, replace = False)\n",
        "\n",
        "    v_context_negative = tf.gather(context_vector, rand_neg_indices)\n",
        "    v_context_positive = tf.gather(context_vector , indices)\n",
        "\n",
        "    output_negative = tf.reduce_sum(tf.math.log(tf.math.sigmoid(tf.math.negative(tf.matmul(v_context_negative, v_center)))))\n",
        "    \n",
        "    for i in v_context_positive:\n",
        "      loss = loss - tf.reduce_sum(tf.math.log(tf.math.sigmoid(tf.matmul(tf.transpose(tf.expand_dims(i,1)), v_center)))) - output_negative\n",
        "\n",
        "  loss_list.append(np.array(loss))\n",
        "  \n",
        "  grad = tape.gradient(loss, [context_vector, center_vector])\n",
        "  opt.apply_gradients(zip(grad, [context_vector, center_vector]))"
      ],
      "execution_count": 8,
      "outputs": []
    },
    {
      "cell_type": "code",
      "metadata": {
        "colab": {
          "base_uri": "https://localhost:8080/"
        },
        "id": "XTdJEaaSvaol",
        "outputId": "157e2e5a-f093-4985-93e9-47b3476ab9a2"
      },
      "source": [
        "loss_list = []\n",
        "for iter in tqdm(range(iterations)):\n",
        "  # Creation of window\n",
        "  for start in range(tokenized_text_size-WINDOW_SIZE):\n",
        "    indices = text_as_int[start:start+WINDOW_SIZE] \n",
        "    train_step(indices, loss_list)"
      ],
      "execution_count": 9,
      "outputs": [
        {
          "output_type": "stream",
          "text": [
            "100%|██████████| 200/200 [09:24<00:00,  2.82s/it]\n"
          ],
          "name": "stderr"
        }
      ]
    },
    {
      "cell_type": "code",
      "metadata": {
        "colab": {
          "base_uri": "https://localhost:8080/",
          "height": 265
        },
        "id": "xBPhtdagvarg",
        "outputId": "461772b4-bed1-4569-b8d9-80731b7c0fbf"
      },
      "source": [
        "plt.figure()\n",
        "\n",
        "\n",
        "plt.plot(loss_list)\n",
        "plt.show()\n"
      ],
      "execution_count": 10,
      "outputs": [
        {
          "output_type": "display_data",
          "data": {
            "image/png": "[encoded data removed]",
            "text/plain": [
              "<Figure size 432x288 with 1 Axes>"
            ]
          },
          "metadata": {
            "tags": [],
            "needs_background": "light"
          }
        }
      ]
    },
    {
      "cell_type": "code",
      "metadata": {
        "id": "YiKwwXI2-sua"
      },
      "source": [
        "from sklearn.manifold import TSNE\n",
        "\n",
        "center_vector_embedded = TSNE(n_components=2).fit_transform(center_vector.numpy())"
      ],
      "execution_count": 11,
      "outputs": []
    },
    {
      "cell_type": "code",
      "metadata": {
        "colab": {
          "base_uri": "https://localhost:8080/",
          "height": 320
        },
        "id": "kXoUxwy4-2E6",
        "outputId": "43f1c95e-ea65-4d9d-f66a-da7d3b68ed33"
      },
      "source": [
        "plt.figure(figsize=(15,5))\n",
        "count = 0\n",
        "for i,j in center_vector_embedded[:40]:\n",
        "  plt.scatter(i,j)\n",
        "  plt.text( i+0.01, j+0.01, ix_to_vocab[count])\n",
        "  count += 1\n",
        "plt.show()"
      ],
      "execution_count": 15,
      "outputs": [
        {
          "output_type": "display_data",
          "data": {
            "image/png": "[encoded data removed]",
            "text/plain": [
              "<Figure size 1080x360 with 1 Axes>"
            ]
          },
          "metadata": {
            "tags": [],
            "needs_background": "light"
          }
        }
      ]
    },
    {
      "cell_type": "code",
      "metadata": {
        "id": "8R7njyxb-6sZ"
      },
      "source": [
        ""
      ],
      "execution_count": null,
      "outputs": []
    }
  ]
}