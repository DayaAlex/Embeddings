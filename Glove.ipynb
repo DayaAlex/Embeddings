{
  "nbformat": 4,
  "nbformat_minor": 0,
  "metadata": {
    "colab": {
      "name": "Glove.ipynb",
      "provenance": [],
      "include_colab_link": true
    },
    "kernelspec": {
      "name": "python3",
      "display_name": "Python 3"
    },
    "accelerator": "GPU"
  },
  "cells": [
    {
      "cell_type": "markdown",
      "metadata": {
        "id": "view-in-github",
        "colab_type": "text"
      },
      "source": [
        "<a href=\"https://colab.research.google.com/github/cr0wley-zz/Embeddings/blob/main/Glove.ipynb\" target=\"_parent\"><img src=\"https://colab.research.google.com/assets/colab-badge.svg\" alt=\"Open In Colab\"/></a>"
      ]
    },
    {
      "cell_type": "markdown",
      "metadata": {
        "id": "WXR2ygJ-jPv5"
      },
      "source": [
        "# Imports"
      ]
    },
    {
      "cell_type": "code",
      "metadata": {
        "id": "-DVI-uUrJzrj"
      },
      "source": [
        "import numpy as np\n",
        "import tensorflow as tf\n",
        "from tqdm import tqdm\n",
        "import matplotlib.pyplot as plt"
      ],
      "execution_count": 1,
      "outputs": []
    },
    {
      "cell_type": "code",
      "metadata": {
        "id": "Ei4bwYUFJ7v6"
      },
      "source": [
        "data = \"\"\"\n",
        "Marie Curie was one of the most accomplished scientists in history. Together with her husband, Pierre, she discovered radium, an element widely used for treating cancer, and studied uranium and other radioactive substances. Pierre and Marie’s amicable collaboration later helped to unlock the secrets of the atom.\n",
        "\n",
        "Marie was born in 1867 in Warsaw, Poland, where her father was a professor of physics. At an early age, she displayed a brilliant mind and a blithe personality. Her great exuberance for learning prompted her to continue with her studies after high school. She became disgruntled, however, when she learned that the university in Warsaw was closed to women. Determined to receive a higher education, she defiantly left Poland and in 1891 entered the Sorbonne, a French university, where she earned her master’s degree and doctorate in physics.\n",
        "\n",
        "Marie was fortunate to have studied at the Sorbonne with some of the greatest scientists of her day, one of whom was Pierre Curie. Marie and Pierre were married in 1895 and spent many productive years working together in the physics laboratory. A short time after they discovered radium, Pierre was killed by a horse-drawn wagon in 1906. Marie was stunned by this horrible misfortune and endured heartbreaking anguish. Despondently she recalled their close relationship and the joy that they had shared in scientific research. The fact that she had two young daughters to raise by herself greatly increased her distress.\n",
        "\n",
        "Curie’s feeling of desolation finally began to fade when she was asked to succeed her husband as a physics professor at the Sorbonne. She was the first woman to be given a professorship at the world-famous university. In 1911 she received the Nobel Prize in chemistry for isolating radium. Although Marie Curie eventually suffered a fatal illness from her long exposure to radium, she never became disillusioned about her work. Regardless of the consequences, she had dedicated herself to science and to revealing the mysteries of the physical world.. \n",
        "\"\"\""
      ],
      "execution_count": 2,
      "outputs": []
    },
    {
      "cell_type": "code",
      "metadata": {
        "id": "-_qad3FyKS4Z"
      },
      "source": [
        "def word_processor(data):\n",
        "  # Converts the data into tokens\n",
        "  tokenized_text = tf.keras.preprocessing.text.text_to_word_sequence(data)\n",
        "  tokenized_text_size = len(tokenized_text)\n",
        "  # Creates a vocab of unique words\n",
        "  vocab = sorted(set(tokenized_text))\n",
        "  vocab_size = len(vocab)\n",
        "  # Map the vocab words to individual indices\n",
        "  vocab_to_ix = {c:ix for ix,c in enumerate(vocab)}\n",
        "  # Map the indices to the words in vocab\n",
        "  ix_to_vocab = np.array(vocab)\n",
        "  # Convert the data into numbers\n",
        "  text_as_int = np.array([vocab_to_ix[c] for c in tokenized_text])\n",
        "  return vocab ,vocab_size, vocab_to_ix, ix_to_vocab, text_as_int"
      ],
      "execution_count": 3,
      "outputs": []
    },
    {
      "cell_type": "code",
      "metadata": {
        "id": "sGkunm8HLORS"
      },
      "source": [
        "def compute_co_occurrence_matrix(corpus, window_size=1):\n",
        "  vocab ,vocab_size, vocab_to_ix, ix_to_vocab, text_as_int = word_processor(corpus)\n",
        "  M = np.zeros((vocab_size, vocab_size))\n",
        "  \n",
        "  doc_len =  len(text_as_int)\n",
        "  for current_idx in range(doc_len):\n",
        "    left_boudary = max(current_idx-window_size, 0)\n",
        "    right_boundary = min(current_idx+window_size+1, doc_len)\n",
        "    outside_words = np.append(text_as_int[left_boudary:current_idx],text_as_int[current_idx+1:right_boundary])\n",
        "    center_word = text_as_int[current_idx]\n",
        "    for outside_word in outside_words:\n",
        "      M[center_word, outside_word] += 1\n",
        "  return M, vocab_to_ix, vocab_size, ix_to_vocab, text_as_int"
      ],
      "execution_count": 4,
      "outputs": []
    },
    {
      "cell_type": "code",
      "metadata": {
        "id": "CPPlf6ikLznQ"
      },
      "source": [
        "co_occurance_matrix, vocab_to_ix, vocab_size, ix_to_vocab, text_as_int   = compute_co_occurrence_matrix(data, 3)\n",
        "probability_matrix = co_occurance_matrix/co_occurance_matrix.sum(axis = 0)"
      ],
      "execution_count": 5,
      "outputs": []
    },
    {
      "cell_type": "code",
      "metadata": {
        "id": "pEl1dLm5Trvw"
      },
      "source": [
        "EMBEDDING_SIZE = 8\n",
        "context_vector =  tf.Variable(np.random.rand(vocab_size, EMBEDDING_SIZE))\n",
        "center_vector = tf.Variable(np.random.rand(vocab_size, EMBEDDING_SIZE))\n",
        "bias_center = tf.Variable(np.random.rand(vocab_size, 1))\n",
        "bias_context = tf.Variable(np.random.rand(vocab_size, 1))"
      ],
      "execution_count": 25,
      "outputs": []
    },
    {
      "cell_type": "code",
      "metadata": {
        "id": "gzbMWkvxYO6N"
      },
      "source": [
        "def weighted_func(x, count_max, scaling_factor):\n",
        "  return tf.math.minimum(\n",
        "      1.0,\n",
        "      tf.math.pow(\n",
        "          tf.math.divide(x, count_max),\n",
        "          scaling_factor))"
      ],
      "execution_count": 26,
      "outputs": []
    },
    {
      "cell_type": "code",
      "metadata": {
        "id": "BS3bhvzFUVs4"
      },
      "source": [
        "def train_step(indices, loss_list):\n",
        "  \"\"\"The training step\n",
        "\n",
        "  Arguments:\n",
        "    indices (list): The indices of the vocab in the window\n",
        "  \"\"\"\n",
        "  \n",
        "  with tf.GradientTape() as tape:\n",
        "     cost = tf.Variable(0.0, dtype=tf.float64)\n",
        "     for i in indices:\n",
        "       center_em = center_vector[i] #a vector (8,)\n",
        "       context_em = tf.gather(context_vector, indices) #a matrix (index,8)\n",
        "\n",
        "       embedding_product = tf.math.reduce_sum(tf.math.multiply(center_em, context_em), 1)\n",
        "\n",
        "       log_cooccurrences = tf.math.log(1+co_occurance_matrix[i, indices])\n",
        "       distance_expr = tf.square(tf.add_n([\n",
        "                                           embedding_product,\n",
        "                                           tf.negative(log_cooccurrences)\n",
        "                                           ]))\n",
        "       single_losses = tf.math.multiply(weighted_func(co_occurance_matrix[i, indices],100,(3/4)), distance_expr)\n",
        "       cost = cost+single_losses\n",
        "  \n",
        "  loss_list.append(cost.numpy().mean())\n",
        "  grad = tape.gradient(cost, [context_vector, center_vector])\n",
        "  opt.apply_gradients(zip(grad, [context_vector, center_vector]))"
      ],
      "execution_count": 27,
      "outputs": []
    },
    {
      "cell_type": "code",
      "metadata": {
        "id": "tHwtDQTFXLbx",
        "colab": {
          "base_uri": "https://localhost:8080/"
        },
        "outputId": "dccc5533-53d7-4531-e377-7ed5b502460e"
      },
      "source": [
        "opt = tf.keras.optimizers.Adam()\n",
        "loss_list = []\n",
        "batch_size = 128\n",
        "iterations = 100\n",
        "for iter in tqdm(range(iterations)):\n",
        "  # indices = np.random.randint(low=0, high=vocab_size, size=batch_size)\n",
        "  indices = range(0,vocab_size-1)\n",
        "  train_step(indices, loss_list)"
      ],
      "execution_count": 33,
      "outputs": [
        {
          "output_type": "stream",
          "text": [
            "100%|██████████| 100/100 [00:44<00:00,  2.25it/s]\n"
          ],
          "name": "stderr"
        }
      ]
    },
    {
      "cell_type": "code",
      "metadata": {
        "id": "orp33EM6gUbd",
        "colab": {
          "base_uri": "https://localhost:8080/",
          "height": 287
        },
        "outputId": "4022e98f-2463-45f2-bbe3-2048107ba3f3"
      },
      "source": [
        "plt.plot(loss_list)"
      ],
      "execution_count": 34,
      "outputs": [
        {
          "output_type": "execute_result",
          "data": {
            "text/plain": [
              "[<matplotlib.lines.Line2D at 0x7f66e0d38e80>]"
            ]
          },
          "metadata": {
            "tags": []
          },
          "execution_count": 34
        },
        {
          "output_type": "display_data",
          "data": {
            "image/png": "[encoded data removed]",
            "text/plain": [
              "<Figure size 432x288 with 1 Axes>"
            ]
          },
          "metadata": {
            "tags": [],
            "needs_background": "light"
          }
        }
      ]
    },
    {
      "cell_type": "code",
      "metadata": {
        "id": "M0SkXXD17GBR"
      },
      "source": [
        "from sklearn.manifold import TSNE\n",
        "\n",
        "center_vector_embedded = TSNE(n_components=2).fit_transform(center_vector.numpy())"
      ],
      "execution_count": 35,
      "outputs": []
    },
    {
      "cell_type": "code",
      "metadata": {
        "id": "XPKWq_EWw0DT",
        "colab": {
          "base_uri": "https://localhost:8080/",
          "height": 265
        },
        "outputId": "78aea016-da58-45a5-b8d7-f45847cab191"
      },
      "source": [
        "plt.figure()\n",
        "count = 0\n",
        "for i,j in center_vector_embedded[:20]:\n",
        "  plt.scatter(i,j)\n",
        "  plt.text( i+0.01, j+0.01, ix_to_vocab[count])\n",
        "  count += 1\n",
        "plt.show()  "
      ],
      "execution_count": 37,
      "outputs": [
        {
          "output_type": "display_data",
          "data": {
            "image/png": "[encoded data removed]",
            "text/plain": [
              "<Figure size 432x288 with 1 Axes>"
            ]
          },
          "metadata": {
            "tags": [],
            "needs_background": "light"
          }
        }
      ]
    }
  ]
}