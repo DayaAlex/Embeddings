{
 "cells": [
  {
   "cell_type": "markdown",
   "metadata": {
    "id": "_2BP1puejRMk"
   },
   "source": [
    "# Imports\n",
    "The following packages are used:\n",
    "1. numpy\n",
    "2. tensorflow\n",
    "3. matplotlib\n",
    "4. tqdm"
   ]
  },
  {
   "cell_type": "code",
   "execution_count": null,
   "metadata": {
    "id": "E3S16EISfeTL"
   },
   "outputs": [],
   "source": [
    "import numpy as np\n",
    "import tensorflow as tf\n",
    "from tqdm import tqdm\n",
    "import matplotlib.pyplot as plt"
   ]
  },
  {
   "cell_type": "code",
   "execution_count": null,
   "metadata": {
    "id": "WKZ48FsuDYe7"
   },
   "outputs": [],
   "source": [
    "!pip install wandb  \n",
    "import wandb"
   ]
  },
  {
   "cell_type": "code",
   "execution_count": null,
   "metadata": {
    "id": "E7IrLpXvDY4H"
   },
   "outputs": [],
   "source": [
    "wandb.login()"
   ]
  },
  {
   "cell_type": "markdown",
   "metadata": {
    "id": "RpfZF94Tjs_I"
   },
   "source": [
    "# Data\n",
    "Due to the fact that we want a minimal implementation of CBOW we will use a small corpus."
   ]
  },
  {
   "cell_type": "code",
   "execution_count": null,
   "metadata": {
    "id": "SE2mxAi3j3wf"
   },
   "outputs": [],
   "source": [
    "data = \"\"\"\n",
    "Marie Curie was one of the most accomplished scientists in history. Together with her husband, Pierre, she discovered radium, an element widely used for treating cancer, and studied uranium and other radioactive substances. Pierre and Marie’s amicable collaboration later helped to unlock the secrets of the atom.\n",
    "\n",
    "Marie was born in 1867 in Warsaw, Poland, where her father was a professor of physics. At an early age, she displayed a brilliant mind and a blithe personality. Her great exuberance for learning prompted her to continue with her studies after high school. She became disgruntled, however, when she learned that the university in Warsaw was closed to women. Determined to receive a higher education, she defiantly left Poland and in 1891 entered the Sorbonne, a French university, where she earned her master’s degree and doctorate in physics.\n",
    "\n",
    "Marie was fortunate to have studied at the Sorbonne with some of the greatest scientists of her day, one of whom was Pierre Curie. Marie and Pierre were married in 1895 and spent many productive years working together in the physics laboratory. A short time after they discovered radium, Pierre was killed by a horse-drawn wagon in 1906. Marie was stunned by this horrible misfortune and endured heartbreaking anguish. Despondently she recalled their close relationship and the joy that they had shared in scientific research. The fact that she had two young daughters to raise by herself greatly increased her distress.\n",
    "\n",
    "Curie’s feeling of desolation finally began to fade when she was asked to succeed her husband as a physics professor at the Sorbonne. She was the first woman to be given a professorship at the world-famous university. In 1911 she received the Nobel Prize in chemistry for isolating radium. Although Marie Curie eventually suffered a fatal illness from her long exposure to radium, she never became disillusioned about her work. Regardless of the consequences, she had dedicated herself to science and to revealing the mysteries of the physical world.\n",
    "\"\"\""
   ]
  },
  {
   "cell_type": "code",
   "execution_count": null,
   "metadata": {
    "colab": {
     "base_uri": "https://localhost:8080/"
    },
    "id": "cfz6lMy1JCJB",
    "outputId": "50c5b754-b3c1-4794-ff1b-c0678307e5cd"
   },
   "outputs": [
    {
     "name": "stdout",
     "output_type": "stream",
     "text": [
      "Vocab Size: 181\n"
     ]
    }
   ],
   "source": [
    "# Converts the data into tokens\n",
    "tokenized_text = tf.keras.preprocessing.text.text_to_word_sequence(data)\n",
    "tokenized_text_size = len(tokenized_text)\n",
    "# Creates a vocab of unique words\n",
    "vocab = sorted(set(tokenized_text))\n",
    "vocab_size = len(vocab)\n",
    "print('Vocab Size: {}'.format(len(vocab)))"
   ]
  },
  {
   "cell_type": "code",
   "execution_count": null,
   "metadata": {
    "id": "ab01pIu86rty"
   },
   "outputs": [],
   "source": [
    "def check_in_vocab(word:str, vocab:list) -> bool:\n",
    "  \"\"\"Checks whether a word is in the vocab\n",
    "\n",
    "  Arguments:\n",
    "    word (str): The word to check\n",
    "  \n",
    "  Returns:\n",
    "    bool: Returns whether the word is in the vocab or not\n",
    "  \"\"\"\n",
    "  return word in vocab"
   ]
  },
  {
   "cell_type": "code",
   "execution_count": null,
   "metadata": {
    "id": "UlbSfHlg-uqp"
   },
   "outputs": [],
   "source": [
    "# Map the vocab words to individual indices\n",
    "vocab_to_ix = {c:ix for ix,c in enumerate(vocab)}\n",
    "# Map the indices to the words in vocab\n",
    "ix_to_vocab = np.array(vocab)\n",
    "# Convert the data into numbers\n",
    "text_as_int = np.array([vocab_to_ix[c] for c in tokenized_text])"
   ]
  },
  {
   "cell_type": "markdown",
   "metadata": {
    "id": "A5X1vTRxl2Ju"
   },
   "source": [
    "# Model parameters"
   ]
  },
  {
   "cell_type": "code",
   "execution_count": null,
   "metadata": {
    "id": "kAveEumofx-r"
   },
   "outputs": [],
   "source": [
    "EMBEDDING_SIZE = 9\n",
    "WINDOW_SIZE = 5\n",
    "opt = tf.optimizers.Adam()\n",
    "iterations = 1000\n",
    "# Here the word vectors are represented as row\n",
    "context_vector =  tf.Variable(np.random.rand(vocab_size, EMBEDDING_SIZE))\n",
    "center_vector = tf.Variable(np.random.rand(vocab_size, EMBEDDING_SIZE))"
   ]
  },
  {
   "cell_type": "code",
   "execution_count": null,
   "metadata": {
    "id": "5oULIzFRD0Rt"
   },
   "outputs": [],
   "source": [
    "wandb.init(entity=\"authors\", project=\"embeddings\", name=\"skip-gram\")"
   ]
  },
  {
   "cell_type": "markdown",
   "metadata": {
    "id": "Y-iu5N_cnGnU"
   },
   "source": [
    "# Implemetation"
   ]
  },
  {
   "cell_type": "code",
   "execution_count": null,
   "metadata": {
    "id": "WcvJJX0OqaUx"
   },
   "outputs": [],
   "source": [
    "context_matrix = (vocab x embedding)\n",
    "center_matrix  = (vocab x embedding)\n",
    "\n",
    "$w_{-2}$, $w_{-1}$, $w_0$, $w_1$, $w_2$\n",
    "\n",
    "\n",
    "Center word =  $w_0$ [FIXED]\n",
    "\n",
    "Context words = {$w_{-2}$, $w_{-1}$, $w_1$, $w_2$} [VARIABLE]\n",
    "\n",
    "\n",
    "\n",
    "after taking the output of the center_vector_embedding = $w_{center}$ -> $v_{center}$\n",
    "\n",
    "$\\boxed{v_{center} * u_{j}; j=0...V}$def train_step(indices, loss_list):\n",
    "  \"\"\"The training step\n",
    "\n",
    "  Arguments:\n",
    "    indices (list): The indices of the vocab in the window\n",
    "  \"\"\"\n",
    "  \n",
    "  with tf.GradientTape() as tape:\n",
    "    # Center\n",
    "    loss = 0\n",
    "    #181, 9 ->  181,9  * 9,1 ->181,1 \n",
    "    v_center = center_vector[ indices[WINDOW_SIZE//2],:]\n",
    "    output = tf.matmul(context_vector, tf.expand_dims(v_center ,1))\n",
    "\n",
    "    soft_out = tf.nn.softmax(output, axis=0)\n",
    "    \n",
    "    for count,index in enumerate(indices):\n",
    "      if count != WINDOW_SIZE//2:\n",
    "        loss += soft_out[index]\n",
    "        \n",
    "    log_loss = -tf.math.log(loss)\n",
    "    wandb.log({\"loss\":log_loss.numpy()})\n",
    "    # Context\n",
    "    \n",
    "  loss_list.append(np.array(log_loss))\n",
    "  grad = tape.gradient(log_loss, [context_vector, center_vector])\n",
    "  opt.apply_gradients(zip(grad, [context_vector, center_vector]))"
   ]
  },
  {
   "cell_type": "code",
   "execution_count": null,
   "metadata": {
    "colab": {
     "base_uri": "https://localhost:8080/"
    },
    "id": "I460SZ8WvEJl",
    "outputId": "b4514f6a-9dc5-424e-f765-375b37647347"
   },
   "outputs": [
    {
     "name": "stderr",
     "output_type": "stream",
     "text": [
      "100%|██████████| 1000/1000 [24:34<00:00,  1.47s/it]\n"
     ]
    }
   ],
   "source": [
    "loss_list = []\n",
    "for iter in tqdm(range(iterations)):\n",
    "  # Creation of window\n",
    "  for start in range(tokenized_text_size-WINDOW_SIZE):\n",
    "    indices = text_as_int[start:start+WINDOW_SIZE] \n",
    "    train_step(indices, loss_list)"
   ]
  },
  {
   "cell_type": "code",
   "execution_count": null,
   "metadata": {
    "colab": {
     "base_uri": "https://localhost:8080/",
     "height": 265
    },
    "id": "R34l5GPrz_ud",
    "outputId": "cbdfaa9f-41ff-4e9b-8110-ae728cf9a8da"
   },
   "outputs": [
    {
     "data": {
      "image/png": "[encoded data removed]",
      "text/plain": [
       "<Figure size 432x288 with 1 Axes>"
      ]
     },
     "metadata": {
      "needs_background": "light",
      "tags": []
     },
     "output_type": "display_data"
    }
   ],
   "source": [
    "plt.figure()\n",
    "\n",
    "\n",
    "plt.plot(loss_list)\n",
    "plt.show()  "
   ]
  },
  {
   "cell_type": "code",
   "execution_count": null,
   "metadata": {
    "id": "ww3IxrC3sodh"
   },
   "outputs": [],
   "source": [
    "from sklearn.manifold import TSNE\n",
    "\n",
    "\n",
    "TSNE_embedd = TSNE(n_components=2).fit_transform(center_vector.numpy())\n",
    "TSNE_decod = TSNE(n_components=2).fit_transform(context_vector.numpy())"
   ]
  },
  {
   "cell_type": "code",
   "execution_count": null,
   "metadata": {
    "colab": {
     "base_uri": "https://localhost:8080/",
     "height": 320
    },
    "id": "3teDTbrZsof-",
    "outputId": "90734bdf-0e89-42cb-c6c6-8d43559ba46c"
   },
   "outputs": [
    {
     "data": {
      "image/png": "[encoded data removed]",
      "text/plain": [
       "<Figure size 1080x360 with 1 Axes>"
      ]
     },
     "metadata": {
      "needs_background": "light",
      "tags": []
     },
     "output_type": "display_data"
    }
   ],
   "source": [
    "cnt = 0 \n",
    "fig = plt.figure(figsize=(15,5))\n",
    "for x,y in TSNE_embedd[:20]:\n",
    "  plt.scatter(x,y)\n",
    "  plt.annotate(ix_to_vocab[cnt], (x,y))\n",
    "  cnt += 1\n",
    "wandb.log({\"Center Word Embeddings\": fig}) \n",
    "plt.show()"
   ]
  }
 ],
 "metadata": {
  "accelerator": "GPU",
  "colab": {
   "collapsed_sections": [],
   "include_colab_link": true,
   "name": "Skip_gram.ipynb",
   "provenance": []
  },
  "kernelspec": {
   "display_name": "Python 3",
   "language": "python",
   "name": "python3"
  },
  "language_info": {
   "codemirror_mode": {
    "name": "ipython",
    "version": 3
   },
   "file_extension": ".py",
   "mimetype": "text/x-python",
   "name": "python",
   "nbconvert_exporter": "python",
   "pygments_lexer": "ipython3",
   "version": "3.7.4"
  }
 },
 "nbformat": 4,
 "nbformat_minor": 1
}
