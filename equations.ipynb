{
  "nbformat": 4,
  "nbformat_minor": 0,
  "metadata": {
    "colab": {
      "name": "scratchpad",
      "provenance": []
    },
    "kernelspec": {
      "display_name": "Python 3",
      "name": "python3"
    }
  },
  "cells": [
    {
      "cell_type": "markdown",
      "metadata": {
        "id": "EcidF21Au81T"
      },
      "source": [
        "# Likelihood function: \n",
        "$$\n",
        "L( \\theta ) =\\prod ^{T}_{t=1}\\prod _{-c\\leqslant j\\leqslant c;\\ j\\neq 0} P( w_{t+j} |w_{t} ;\\theta )\n",
        "$$\n",
        "\n",
        "The symbols and their meaning:\n",
        "1. $\\theta$: The parameter that is learned. Here refers to the vector embeddings of each word.\n",
        "2. $t$: The variable that represents each word index in the corpus of text. There are $T$ number of words in the corpus.\n",
        "3. $c$: The size of the window of context\n",
        "4. $j$: The variable that represents the context words index."
      ]
    },
    {
      "cell_type": "code",
      "metadata": {
        "id": "BV42F_MBxqfl"
      },
      "source": [
        ""
      ],
      "execution_count": null,
      "outputs": []
    }
  ]
}